{
 "cells": [
  {
   "cell_type": "code",
   "execution_count": 1,
   "metadata": {},
   "outputs": [],
   "source": [
    "import pandas as pd\n",
    "import numpy as np\n",
    "import seaborn as sns\n",
    "import matplotlib.pyplot as plt\n",
    "from sklearn.model_selection import train_test_split\n",
    "\n",
    "from sklearn.feature_extraction.text import TfidfVectorizer\n",
    "from sklearn.feature_extraction.text import CountVectorizer\n",
    "from nltk.corpus import stopwords \n",
    "from nltk.tokenize import word_tokenize \n",
    "import scipy\n",
    "import nltk\n",
    "from scipy.sparse import coo_matrix, hstack\n",
    "from nltk.stem.snowball import SnowballStemmer\n",
    "from sklearn.metrics import confusion_matrix"
   ]
  },
  {
   "cell_type": "code",
   "execution_count": 2,
   "metadata": {},
   "outputs": [],
   "source": [
    "from sklearn.metrics import pairwise\n",
    "from sklearn.decomposition import PCA, TruncatedSVD\n",
    "import matplotlib\n",
    "import matplotlib.patches as mpatches"
   ]
  },
  {
   "cell_type": "code",
   "execution_count": 3,
   "metadata": {},
   "outputs": [],
   "source": [
    "from sklearn.model_selection import LeaveOneOut\n",
    "from xgboost import XGBClassifier\n",
    "from sklearn.metrics import cohen_kappa_score\n",
    "from lightgbm import LGBMClassifier\n",
    "from catboost import CatBoostClassifier\n",
    "from sklearn.linear_model import LinearRegression\n",
    "from sklearn.ensemble import RandomForestClassifier\n",
    "from Levenshtein import distance\n",
    "\n",
    "loo = LeaveOneOut()"
   ]
  },
  {
   "cell_type": "code",
   "execution_count": 4,
   "metadata": {},
   "outputs": [],
   "source": [
    "train = pd.read_csv('C:/Users/Dindar/crowdflower/tables1/train.csv')\n",
    "test = pd.read_csv('C:/Users/Dindar/crowdflower/tables1/test.csv')"
   ]
  },
  {
   "cell_type": "code",
   "execution_count": 5,
   "metadata": {},
   "outputs": [
    {
     "name": "stderr",
     "output_type": "stream",
     "text": [
      "C:\\Users\\Dindar\\anaconda3\\lib\\site-packages\\pandas\\core\\generic.py:6245: SettingWithCopyWarning: \n",
      "A value is trying to be set on a copy of a slice from a DataFrame\n",
      "\n",
      "See the caveats in the documentation: https://pandas.pydata.org/pandas-docs/stable/user_guide/indexing.html#returning-a-view-versus-a-copy\n",
      "  self._update_inplace(new_data)\n"
     ]
    }
   ],
   "source": [
    "df = train[train['query'] == 'bridal shower decorations']\n",
    "df['product_description'].fillna('0', inplace=True)"
   ]
  },
  {
   "cell_type": "code",
   "execution_count": 6,
   "metadata": {},
   "outputs": [
    {
     "name": "stderr",
     "output_type": "stream",
     "text": [
      "C:\\Users\\Dindar\\anaconda3\\lib\\site-packages\\ipykernel_launcher.py:2: SettingWithCopyWarning: \n",
      "A value is trying to be set on a copy of a slice from a DataFrame.\n",
      "Try using .loc[row_indexer,col_indexer] = value instead\n",
      "\n",
      "See the caveats in the documentation: https://pandas.pydata.org/pandas-docs/stable/user_guide/indexing.html#returning-a-view-versus-a-copy\n",
      "  \n",
      "C:\\Users\\Dindar\\anaconda3\\lib\\site-packages\\ipykernel_launcher.py:3: SettingWithCopyWarning: \n",
      "A value is trying to be set on a copy of a slice from a DataFrame.\n",
      "Try using .loc[row_indexer,col_indexer] = value instead\n",
      "\n",
      "See the caveats in the documentation: https://pandas.pydata.org/pandas-docs/stable/user_guide/indexing.html#returning-a-view-versus-a-copy\n",
      "  This is separate from the ipykernel package so we can avoid doing imports until\n",
      "C:\\Users\\Dindar\\anaconda3\\lib\\site-packages\\ipykernel_launcher.py:4: SettingWithCopyWarning: \n",
      "A value is trying to be set on a copy of a slice from a DataFrame.\n",
      "Try using .loc[row_indexer,col_indexer] = value instead\n",
      "\n",
      "See the caveats in the documentation: https://pandas.pydata.org/pandas-docs/stable/user_guide/indexing.html#returning-a-view-versus-a-copy\n",
      "  after removing the cwd from sys.path.\n",
      "C:\\Users\\Dindar\\anaconda3\\lib\\site-packages\\ipykernel_launcher.py:10: SettingWithCopyWarning: \n",
      "A value is trying to be set on a copy of a slice from a DataFrame.\n",
      "Try using .loc[row_indexer,col_indexer] = value instead\n",
      "\n",
      "See the caveats in the documentation: https://pandas.pydata.org/pandas-docs/stable/user_guide/indexing.html#returning-a-view-versus-a-copy\n",
      "  # Remove the CWD from sys.path while we load stuff.\n",
      "C:\\Users\\Dindar\\anaconda3\\lib\\site-packages\\ipykernel_launcher.py:11: SettingWithCopyWarning: \n",
      "A value is trying to be set on a copy of a slice from a DataFrame.\n",
      "Try using .loc[row_indexer,col_indexer] = value instead\n",
      "\n",
      "See the caveats in the documentation: https://pandas.pydata.org/pandas-docs/stable/user_guide/indexing.html#returning-a-view-versus-a-copy\n",
      "  # This is added back by InteractiveShellApp.init_path()\n",
      "C:\\Users\\Dindar\\anaconda3\\lib\\site-packages\\ipykernel_launcher.py:12: SettingWithCopyWarning: \n",
      "A value is trying to be set on a copy of a slice from a DataFrame.\n",
      "Try using .loc[row_indexer,col_indexer] = value instead\n",
      "\n",
      "See the caveats in the documentation: https://pandas.pydata.org/pandas-docs/stable/user_guide/indexing.html#returning-a-view-versus-a-copy\n",
      "  if sys.path[0] == '':\n",
      "C:\\Users\\Dindar\\anaconda3\\lib\\site-packages\\ipykernel_launcher.py:18: SettingWithCopyWarning: \n",
      "A value is trying to be set on a copy of a slice from a DataFrame.\n",
      "Try using .loc[row_indexer,col_indexer] = value instead\n",
      "\n",
      "See the caveats in the documentation: https://pandas.pydata.org/pandas-docs/stable/user_guide/indexing.html#returning-a-view-versus-a-copy\n",
      "C:\\Users\\Dindar\\anaconda3\\lib\\site-packages\\ipykernel_launcher.py:19: SettingWithCopyWarning: \n",
      "A value is trying to be set on a copy of a slice from a DataFrame.\n",
      "Try using .loc[row_indexer,col_indexer] = value instead\n",
      "\n",
      "See the caveats in the documentation: https://pandas.pydata.org/pandas-docs/stable/user_guide/indexing.html#returning-a-view-versus-a-copy\n",
      "C:\\Users\\Dindar\\anaconda3\\lib\\site-packages\\ipykernel_launcher.py:20: SettingWithCopyWarning: \n",
      "A value is trying to be set on a copy of a slice from a DataFrame.\n",
      "Try using .loc[row_indexer,col_indexer] = value instead\n",
      "\n",
      "See the caveats in the documentation: https://pandas.pydata.org/pandas-docs/stable/user_guide/indexing.html#returning-a-view-versus-a-copy\n"
     ]
    }
   ],
   "source": [
    "stop_words = set(stopwords.words('english')) \n",
    "df['query'] = df['query'].str.lower()\n",
    "df['product_title'] = df['product_title'].str.lower()\n",
    "df['product_description'] = df['product_description'].str.lower()\n",
    "w_tokenizer = nltk.tokenize.WhitespaceTokenizer()\n",
    "lemmatizer = nltk.stem.WordNetLemmatizer()\n",
    "\n",
    "def lemmatize_text(text):\n",
    "    return [lemmatizer.lemmatize(w) for w in w_tokenizer.tokenize(text)]\n",
    "df['query'] = df['query'].apply(lemmatize_text)\n",
    "df['product_title'] = df['product_title'].apply(lemmatize_text)\n",
    "df['product_description'] = df['product_description'].apply(lemmatize_text)\n",
    "def listToString(s):  \n",
    "    str1 = \"\"  \n",
    "    for ele in s:  \n",
    "        str1 = str1 + ' ' + ele      \n",
    "    return str1[1:]\n",
    "df['query'] = df['query'].apply(listToString)\n",
    "df['product_title'] = df['product_title'].apply(listToString)\n",
    "df['product_description'] = df['product_description'].apply(listToString)"
   ]
  },
  {
   "cell_type": "markdown",
   "metadata": {},
   "source": [
    "# word2vec"
   ]
  },
  {
   "cell_type": "code",
   "execution_count": 5,
   "metadata": {},
   "outputs": [],
   "source": [
    "import gensim\n",
    "\n",
    "word2vec_path = \"G:/Downloads/GoogleNews-vectors-negative300.bin.gz\"\n",
    "word2vec = gensim.models.KeyedVectors.load_word2vec_format(word2vec_path, binary=True)"
   ]
  },
  {
   "cell_type": "code",
   "execution_count": 6,
   "metadata": {},
   "outputs": [
    {
     "data": {
      "text/plain": [
       "gensim.models.keyedvectors.Word2VecKeyedVectors"
      ]
     },
     "execution_count": 6,
     "metadata": {},
     "output_type": "execute_result"
    }
   ],
   "source": [
    "type(word2vec)"
   ]
  },
  {
   "cell_type": "code",
   "execution_count": 7,
   "metadata": {},
   "outputs": [],
   "source": [
    "def get_average_word2vec(tokens_list, vector, generate_missing=False, k=300):\n",
    "    if len(tokens_list)<1:\n",
    "        return np.zeros(k)\n",
    "    if generate_missing:\n",
    "        vectorized = [vector[word] if word in vector else np.random.rand(k) for word in tokens_list]\n",
    "    else:\n",
    "        vectorized = [vector[word] if word in vector else np.zeros(k) for word in tokens_list]\n",
    "    length = len(vectorized)\n",
    "    summed = np.sum(vectorized, axis=0)\n",
    "    averaged = np.divide(summed, length)\n",
    "    return averaged\n",
    "\n",
    "def get_word2vec_embeddings(vectors, clean_questions,col, generate_missing=False):\n",
    "    embeddings = clean_questions[col].apply(lambda x: get_average_word2vec(x, vectors, \n",
    "                                                                                generate_missing=generate_missing))\n",
    "    return list(embeddings)"
   ]
  },
  {
   "cell_type": "code",
   "execution_count": 8,
   "metadata": {},
   "outputs": [
    {
     "name": "stderr",
     "output_type": "stream",
     "text": [
      "C:\\Users\\Dindar\\anaconda3\\lib\\site-packages\\ipykernel_launcher.py:1: SettingWithCopyWarning: \n",
      "A value is trying to be set on a copy of a slice from a DataFrame.\n",
      "Try using .loc[row_indexer,col_indexer] = value instead\n",
      "\n",
      "See the caveats in the documentation: https://pandas.pydata.org/pandas-docs/stable/user_guide/indexing.html#returning-a-view-versus-a-copy\n",
      "  \"\"\"Entry point for launching an IPython kernel.\n",
      "C:\\Users\\Dindar\\anaconda3\\lib\\site-packages\\ipykernel_launcher.py:2: SettingWithCopyWarning: \n",
      "A value is trying to be set on a copy of a slice from a DataFrame.\n",
      "Try using .loc[row_indexer,col_indexer] = value instead\n",
      "\n",
      "See the caveats in the documentation: https://pandas.pydata.org/pandas-docs/stable/user_guide/indexing.html#returning-a-view-versus-a-copy\n",
      "  \n"
     ]
    }
   ],
   "source": [
    "df['product_title'] = df['product_title'].str.split()\n",
    "df['product_description'] = df['product_description'].str.split()"
   ]
  },
  {
   "cell_type": "code",
   "execution_count": 128,
   "metadata": {},
   "outputs": [],
   "source": [
    "embeddings = get_word2vec_embeddings(word2vec, df,'product_description')\n",
    "embeddings1 = get_word2vec_embeddings(word2vec, df,'product_title')\n",
    "embeddings = np.asarray(embeddings)\n",
    "embeddings1 = np.asarray(embeddings1)\n",
    "embeddings = pd.DataFrame(embeddings)\n",
    "embeddings1 = pd.DataFrame(embeddings1)"
   ]
  },
  {
   "cell_type": "code",
   "execution_count": 129,
   "metadata": {},
   "outputs": [],
   "source": [
    "embeddings['target'] = list(df['median_relevance'])\n",
    "embeddings1['target1'] = list(df['median_relevance'])"
   ]
  },
  {
   "cell_type": "code",
   "execution_count": 130,
   "metadata": {},
   "outputs": [],
   "source": [
    "a = pairwise.cosine_similarity(embeddings)\n",
    "a = pd.DataFrame(a)"
   ]
  },
  {
   "cell_type": "code",
   "execution_count": 131,
   "metadata": {},
   "outputs": [],
   "source": [
    "meann = []\n",
    "maxx = []\n",
    "minn = []\n",
    "for i in a.index:\n",
    "    iii = a.iloc[i].sort_values(ascending=False)[:6].index\n",
    "    meann.append(embeddings.iloc[iii]['target'].mean())\n",
    "    maxx.append(embeddings.iloc[iii]['target'].max())\n",
    "    minn.append(embeddings.iloc[iii]['target'].min())\n",
    "embeddings['mean_6_cos_word2vec'] = meann\n",
    "embeddings['max_6_cos_word2vec'] = maxx\n",
    "embeddings['min_6_cos_word2vec'] = minn\n",
    "\n",
    "one = []\n",
    "two = []\n",
    "three = []\n",
    "four = []\n",
    "for i in range(43):\n",
    "    one.append(0)\n",
    "    two.append(0)\n",
    "    three.append(0)\n",
    "    four.append(0)\n",
    "for i in a.index:\n",
    "    iii = a.iloc[i].sort_values()[:6].index\n",
    "    for j in embeddings.iloc[iii]['target']:\n",
    "        if j == 1:\n",
    "            one[i] = one[i] + 1\n",
    "        elif j == 2:\n",
    "            two[i] = two[i] + 1\n",
    "        elif j == 3:\n",
    "            three[i] = three[i] + 1\n",
    "        elif j == 4:\n",
    "            four[i] = four[i] + 1\n",
    "embeddings['one_6_cos_word2vec'] = one\n",
    "embeddings['two_6_cos_word2vec'] = two\n",
    "embeddings['three_6_cos_word2vec'] = three\n",
    "embeddings['four_6_cos_word2vec'] = four"
   ]
  },
  {
   "cell_type": "code",
   "execution_count": null,
   "metadata": {},
   "outputs": [],
   "source": []
  },
  {
   "cell_type": "code",
   "execution_count": 132,
   "metadata": {},
   "outputs": [],
   "source": [
    "a = pairwise.cosine_similarity(embeddings1)\n",
    "a = pd.DataFrame(a)"
   ]
  },
  {
   "cell_type": "code",
   "execution_count": 133,
   "metadata": {},
   "outputs": [],
   "source": [
    "meann = []\n",
    "maxx = []\n",
    "minn = []\n",
    "for i in a.index:\n",
    "    iii = a.iloc[i].sort_values(ascending=False)[:3].index\n",
    "    meann.append(embeddings1.iloc[iii]['target1'].mean())\n",
    "    maxx.append(embeddings1.iloc[iii]['target1'].max())\n",
    "    minn.append(embeddings1.iloc[iii]['target1'].min())\n",
    "embeddings1['mean_3_cos_word2vec_title'] = meann\n",
    "embeddings1['max_3_cos_word2vec_title'] = maxx\n",
    "embeddings1['min_3_cos_word2vec_title'] = minn"
   ]
  },
  {
   "cell_type": "code",
   "execution_count": 134,
   "metadata": {},
   "outputs": [],
   "source": [
    "one = []\n",
    "two = []\n",
    "three = []\n",
    "four = []\n",
    "for i in range(43):\n",
    "    one.append(0)\n",
    "    two.append(0)\n",
    "    three.append(0)\n",
    "    four.append(0)\n",
    "for i in a.index:\n",
    "    iii = a.iloc[i].sort_values()[:3].index\n",
    "    for j in embeddings1.iloc[iii]['target1']:\n",
    "        if j == 1:\n",
    "            one[i] = one[i] + 1\n",
    "        elif j == 2:\n",
    "            two[i] = two[i] + 1\n",
    "        elif j == 3:\n",
    "            three[i] = three[i] + 1\n",
    "        elif j == 4:\n",
    "            four[i] = four[i] + 1\n",
    "embeddings1['one_3_cos_word2vec_title'] = one\n",
    "embeddings1['two_3_cos_word2vec_title'] = two\n",
    "embeddings1['three_3_cos_word2vec_title'] = three\n",
    "embeddings1['four_3_cos_word2vec_title'] = four"
   ]
  },
  {
   "cell_type": "code",
   "execution_count": 135,
   "metadata": {},
   "outputs": [
    {
     "data": {
      "text/plain": [
       "((43, 308), (43, 308))"
      ]
     },
     "execution_count": 135,
     "metadata": {},
     "output_type": "execute_result"
    }
   ],
   "source": [
    "embeddings.shape, embeddings1.shape"
   ]
  },
  {
   "cell_type": "code",
   "execution_count": 136,
   "metadata": {},
   "outputs": [],
   "source": [
    "embeddings1.drop('target1',axis=1,inplace=True)"
   ]
  },
  {
   "cell_type": "code",
   "execution_count": 137,
   "metadata": {},
   "outputs": [],
   "source": [
    "data = pd.concat([embeddings, embeddings1], axis=1)"
   ]
  },
  {
   "cell_type": "code",
   "execution_count": null,
   "metadata": {},
   "outputs": [],
   "source": []
  },
  {
   "cell_type": "code",
   "execution_count": null,
   "metadata": {},
   "outputs": [],
   "source": []
  },
  {
   "cell_type": "code",
   "execution_count": 7,
   "metadata": {},
   "outputs": [],
   "source": [
    "vectorizer = TfidfVectorizer(stop_words=stop_words, ngram_range=(1, 7))\n",
    "vectorizer1 = TfidfVectorizer(stop_words=stop_words, ngram_range=(1, 7))\n",
    "vectorizer2 = TfidfVectorizer(stop_words=stop_words, ngram_range=(1, 7))"
   ]
  },
  {
   "cell_type": "code",
   "execution_count": 8,
   "metadata": {},
   "outputs": [],
   "source": [
    "vectorizer3 = TfidfVectorizer(stop_words=stop_words, ngram_range=(1, 4), analyzer='char')\n",
    "X3 = vectorizer3.fit_transform(df['product_description'])"
   ]
  },
  {
   "cell_type": "code",
   "execution_count": 9,
   "metadata": {},
   "outputs": [],
   "source": [
    "X1 = vectorizer1.fit_transform(df['product_title'])\n",
    "X2 = vectorizer2.fit_transform(df['product_description'])"
   ]
  },
  {
   "cell_type": "code",
   "execution_count": 10,
   "metadata": {},
   "outputs": [],
   "source": [
    "f1 = vectorizer1.get_feature_names()\n",
    "f2 = vectorizer2.get_feature_names()\n",
    "f3 = vectorizer3.get_feature_names()"
   ]
  },
  {
   "cell_type": "code",
   "execution_count": 11,
   "metadata": {},
   "outputs": [],
   "source": [
    "tr = hstack([X1,X2,X3])"
   ]
  },
  {
   "cell_type": "code",
   "execution_count": 12,
   "metadata": {},
   "outputs": [],
   "source": [
    "y = df['median_relevance']"
   ]
  },
  {
   "cell_type": "code",
   "execution_count": 178,
   "metadata": {},
   "outputs": [
    {
     "data": {
      "text/plain": [
       "<43x15308 sparse matrix of type '<class 'numpy.float64'>'\n",
       "\twith 35260 stored elements in COOrdinate format>"
      ]
     },
     "execution_count": 178,
     "metadata": {},
     "output_type": "execute_result"
    }
   ],
   "source": [
    "tr"
   ]
  },
  {
   "cell_type": "code",
   "execution_count": 48,
   "metadata": {},
   "outputs": [],
   "source": [
    "data = pd.DataFrame(tr.A)\n",
    "data['target'] = list(y)"
   ]
  },
  {
   "cell_type": "code",
   "execution_count": 22,
   "metadata": {},
   "outputs": [],
   "source": []
  },
  {
   "cell_type": "code",
   "execution_count": 96,
   "metadata": {},
   "outputs": [],
   "source": [
    "svd = TruncatedSVD(n_components=4, random_state=42)\n",
    "X_reduced1 = svd.fit_transform(tr)"
   ]
  },
  {
   "cell_type": "code",
   "execution_count": 14,
   "metadata": {},
   "outputs": [
    {
     "data": {
      "text/plain": [
       "(43, 15308)"
      ]
     },
     "execution_count": 14,
     "metadata": {},
     "output_type": "execute_result"
    }
   ],
   "source": [
    "tr.shape"
   ]
  },
  {
   "cell_type": "code",
   "execution_count": 15,
   "metadata": {},
   "outputs": [
    {
     "data": {
      "text/plain": [
       "(43, 5)"
      ]
     },
     "execution_count": 15,
     "metadata": {},
     "output_type": "execute_result"
    }
   ],
   "source": [
    "X_reduced1.shape"
   ]
  },
  {
   "cell_type": "code",
   "execution_count": 97,
   "metadata": {},
   "outputs": [],
   "source": [
    "data = pd.DataFrame(X_reduced1)\n",
    "data['target'] = list(y)"
   ]
  },
  {
   "cell_type": "code",
   "execution_count": 17,
   "metadata": {},
   "outputs": [
    {
     "data": {
      "text/plain": [
       "(43, 6)"
      ]
     },
     "execution_count": 17,
     "metadata": {},
     "output_type": "execute_result"
    }
   ],
   "source": [
    "data.shape"
   ]
  },
  {
   "cell_type": "markdown",
   "metadata": {},
   "source": [
    "# cosine_similarity"
   ]
  },
  {
   "cell_type": "code",
   "execution_count": 144,
   "metadata": {},
   "outputs": [],
   "source": [
    "a = pairwise.cosine_similarity(data.drop('target', axis=1).values)"
   ]
  },
  {
   "cell_type": "code",
   "execution_count": 145,
   "metadata": {},
   "outputs": [],
   "source": [
    "a = pd.DataFrame(a)"
   ]
  },
  {
   "cell_type": "code",
   "execution_count": 146,
   "metadata": {},
   "outputs": [],
   "source": [
    "meann = []\n",
    "maxx = []\n",
    "minn = []\n",
    "for i in a.index:\n",
    "    iii = a.iloc[i].sort_values(ascending=False)[:4].index\n",
    "    meann.append(data.iloc[iii]['target'].mean())\n",
    "    maxx.append(data.iloc[iii]['target'].max())\n",
    "    minn.append(data.iloc[iii]['target'].min())\n",
    "data['mean_4_cos'] = meann\n",
    "data['max_4_cos'] = maxx\n",
    "data['min_4_cos'] = minn"
   ]
  },
  {
   "cell_type": "code",
   "execution_count": 147,
   "metadata": {},
   "outputs": [],
   "source": [
    "one = []\n",
    "two = []\n",
    "three = []\n",
    "four = []\n",
    "for i in range(43):\n",
    "    one.append(0)\n",
    "    two.append(0)\n",
    "    three.append(0)\n",
    "    four.append(0)\n",
    "for i in a.index:\n",
    "    iii = a.iloc[i].sort_values()[:4].index\n",
    "    for j in data.iloc[iii]['target']:\n",
    "        if j == 1:\n",
    "            one[i] = one[i] + 1\n",
    "        elif j == 2:\n",
    "            two[i] = two[i] + 1\n",
    "        elif j == 3:\n",
    "            three[i] = three[i] + 1\n",
    "        elif j == 4:\n",
    "            four[i] = four[i] + 1\n",
    "data['one_4_cos'] = one\n",
    "data['two_4_cos'] = two\n",
    "data['three_4_cos'] = three\n",
    "data['four_4_cos'] = four"
   ]
  },
  {
   "cell_type": "markdown",
   "metadata": {},
   "source": [
    "# Levenshtein"
   ]
  },
  {
   "cell_type": "code",
   "execution_count": 184,
   "metadata": {},
   "outputs": [],
   "source": []
  },
  {
   "cell_type": "code",
   "execution_count": 98,
   "metadata": {},
   "outputs": [],
   "source": [
    "df.set_index(pd.Index(list(range(43))), inplace=True)"
   ]
  },
  {
   "cell_type": "code",
   "execution_count": 99,
   "metadata": {},
   "outputs": [],
   "source": [
    "a = []\n",
    "for i in df.index:\n",
    "    b = []\n",
    "    for j in df.index:\n",
    "        b.append(distance(df.iloc[i]['product_description'], df.iloc[j]['product_description']))\n",
    "    a.append(b)"
   ]
  },
  {
   "cell_type": "code",
   "execution_count": 20,
   "metadata": {},
   "outputs": [
    {
     "data": {
      "text/plain": [
       "43"
      ]
     },
     "execution_count": 20,
     "metadata": {},
     "output_type": "execute_result"
    }
   ],
   "source": [
    "len(a)"
   ]
  },
  {
   "cell_type": "code",
   "execution_count": 100,
   "metadata": {},
   "outputs": [],
   "source": [
    "a = np.asarray(a)\n",
    "a = pd.DataFrame(a)"
   ]
  },
  {
   "cell_type": "code",
   "execution_count": 101,
   "metadata": {},
   "outputs": [],
   "source": [
    "meann = []\n",
    "maxx = []\n",
    "minn = []\n",
    "b = []\n",
    "for i in a.index:\n",
    "    iii = a.iloc[i].sort_values()[:4].index\n",
    "\n",
    "    b.append(np.mean(a.iloc[i].iloc[iii]))\n",
    "    meann.append(data.iloc[iii]['target'].mean())\n",
    "    maxx.append(data.iloc[iii]['target'].max())\n",
    "    minn.append(data.iloc[iii]['target'].min())\n",
    "data['mean_4_lev'] = meann\n",
    "data['max_4_lev'] = maxx\n",
    "data['min_4_lev'] = minn\n",
    "data['mean_dis_lev_4'] = b"
   ]
  },
  {
   "cell_type": "code",
   "execution_count": 88,
   "metadata": {},
   "outputs": [],
   "source": [
    "one = []\n",
    "two = []\n",
    "three = []\n",
    "four = []\n",
    "for i in range(43):\n",
    "    one.append(0)\n",
    "    two.append(0)\n",
    "    three.append(0)\n",
    "    four.append(0)\n",
    "for i in a.index:\n",
    "    iii = a.iloc[i].sort_values()[:4].index\n",
    "    for j in data.iloc[iii]['target']:\n",
    "        if j == 1:\n",
    "            one[i] = one[i] + 1\n",
    "        elif j == 2:\n",
    "            two[i] = two[i] + 1\n",
    "        elif j == 3:\n",
    "            three[i] = three[i] + 1\n",
    "        elif j == 4:\n",
    "            four[i] = four[i] + 1\n",
    "data['one_4_lev'] = one\n",
    "data['two_4_lev'] = two\n",
    "data['three_4_lev'] = three\n",
    "data['four_4_lev'] = four"
   ]
  },
  {
   "cell_type": "code",
   "execution_count": null,
   "metadata": {},
   "outputs": [],
   "source": []
  },
  {
   "cell_type": "code",
   "execution_count": 102,
   "metadata": {},
   "outputs": [],
   "source": [
    "a = []\n",
    "for i in df.index:\n",
    "    b = []\n",
    "    for j in df.index:\n",
    "        b.append(distance(df.iloc[i]['product_title'], df.iloc[j]['product_title']))\n",
    "    a.append(b)"
   ]
  },
  {
   "cell_type": "code",
   "execution_count": 103,
   "metadata": {},
   "outputs": [],
   "source": [
    "a = np.asarray(a)\n",
    "a = pd.DataFrame(a)"
   ]
  },
  {
   "cell_type": "code",
   "execution_count": 104,
   "metadata": {},
   "outputs": [],
   "source": [
    "meann = []\n",
    "maxx = []\n",
    "minn = []\n",
    "b = []\n",
    "for i in a.index:\n",
    "    iii = a.iloc[i].sort_values()[:4].index\n",
    "    b.append(np.mean(a.iloc[i].iloc[iii]))\n",
    "    meann.append(data.iloc[iii]['target'].mean())\n",
    "    maxx.append(data.iloc[iii]['target'].max())\n",
    "    minn.append(data.iloc[iii]['target'].min())\n",
    "data['mean_4_lev_title'] = meann\n",
    "data['max_4_lev_title'] = maxx\n",
    "data['min_4_lev_title'] = minn\n",
    "data['mean_dis_lev_4_title'] = b"
   ]
  },
  {
   "cell_type": "code",
   "execution_count": 92,
   "metadata": {},
   "outputs": [],
   "source": [
    "one = []\n",
    "two = []\n",
    "three = []\n",
    "four = []\n",
    "for i in range(43):\n",
    "    one.append(0)\n",
    "    two.append(0)\n",
    "    three.append(0)\n",
    "    four.append(0)\n",
    "for i in a.index:\n",
    "    iii = a.iloc[i].sort_values()[:4].index\n",
    "    for j in data.iloc[iii]['target']:\n",
    "        if j == 1:\n",
    "            one[i] = one[i] + 1\n",
    "        elif j == 2:\n",
    "            two[i] = two[i] + 1\n",
    "        elif j == 3:\n",
    "            three[i] = three[i] + 1\n",
    "        elif j == 4:\n",
    "            four[i] = four[i] + 1\n",
    "data['one_4_lev_title'] = one\n",
    "data['two_4_lev_title'] = two\n",
    "data['three_4_lev_title'] = three\n",
    "data['four_4_lev_title'] = four"
   ]
  },
  {
   "cell_type": "code",
   "execution_count": null,
   "metadata": {},
   "outputs": [],
   "source": []
  },
  {
   "cell_type": "markdown",
   "metadata": {},
   "source": [
    "# jaccard_similarity"
   ]
  },
  {
   "cell_type": "code",
   "execution_count": 157,
   "metadata": {},
   "outputs": [],
   "source": [
    "from distance import jaccard"
   ]
  },
  {
   "cell_type": "code",
   "execution_count": 158,
   "metadata": {},
   "outputs": [],
   "source": [
    "a = []\n",
    "for i in df.index:\n",
    "    b = []\n",
    "    for j in df.index:\n",
    "        b.append(jaccard(df.iloc[i]['product_title'], df.iloc[j]['product_title']))\n",
    "    a.append(b)"
   ]
  },
  {
   "cell_type": "code",
   "execution_count": 159,
   "metadata": {},
   "outputs": [],
   "source": [
    "a = np.asarray(a)\n",
    "a = pd.DataFrame(a)"
   ]
  },
  {
   "cell_type": "code",
   "execution_count": 160,
   "metadata": {},
   "outputs": [],
   "source": [
    "meann = []\n",
    "maxx = []\n",
    "minn = []\n",
    "b = []\n",
    "for i in a.index:\n",
    "    iii = a.iloc[i].sort_values()[:4].index\n",
    "    b.append(np.mean(a.iloc[i].iloc[iii]))\n",
    "    meann.append(data.iloc[iii]['target'].mean())\n",
    "    maxx.append(data.iloc[iii]['target'].max())\n",
    "    minn.append(data.iloc[iii]['target'].min())\n",
    "data['mean_4_jar_title'] = meann\n",
    "data['max_4_jar_title'] = maxx\n",
    "data['min_4_jar_title'] = minn\n",
    "data['mean_dis_jar_4_title'] = b"
   ]
  },
  {
   "cell_type": "code",
   "execution_count": 161,
   "metadata": {},
   "outputs": [],
   "source": [
    "one = []\n",
    "two = []\n",
    "three = []\n",
    "four = []\n",
    "for i in range(43):\n",
    "    one.append(0)\n",
    "    two.append(0)\n",
    "    three.append(0)\n",
    "    four.append(0)\n",
    "for i in a.index:\n",
    "    iii = a.iloc[i].sort_values()[:4].index\n",
    "    for j in data.iloc[iii]['target']:\n",
    "        if j == 1:\n",
    "            one[i] = one[i] + 1\n",
    "        elif j == 2:\n",
    "            two[i] = two[i] + 1\n",
    "        elif j == 3:\n",
    "            three[i] = three[i] + 1\n",
    "        elif j == 4:\n",
    "            four[i] = four[i] + 1\n",
    "data['one_4_jar_title'] = one\n",
    "data['two_4_jar_title'] = two\n",
    "data['three_4_jar_title'] = three\n",
    "data['four_4_jar_title'] = four"
   ]
  },
  {
   "cell_type": "markdown",
   "metadata": {},
   "source": [
    "# model"
   ]
  },
  {
   "cell_type": "code",
   "execution_count": 58,
   "metadata": {},
   "outputs": [],
   "source": [
    "from catboost import CatBoostClassifier"
   ]
  },
  {
   "cell_type": "code",
   "execution_count": 105,
   "metadata": {},
   "outputs": [],
   "source": [
    "X = data.drop(['target','min_4_lev_title','max_4_lev_title'],axis=1)\n",
    "y = data['target']\n",
    "weight = 1 / (1 + df['relevance_variance'])"
   ]
  },
  {
   "cell_type": "code",
   "execution_count": 106,
   "metadata": {},
   "outputs": [
    {
     "name": "stdout",
     "output_type": "stream",
     "text": [
      "Wall time: 3.23 s\n"
     ]
    }
   ],
   "source": [
    "%%time\n",
    "y_ts = []\n",
    "y_pr = []\n",
    "for train_index, test_index in loo.split(X):\n",
    "    X_train, X_test = X.values[train_index], X.values[test_index]\n",
    "    y_train, y_test = y.values[train_index], y.values[test_index]\n",
    "    w = weight.values[train_index]\n",
    "    xgb = XGBClassifier()\n",
    "    xgb.fit(X_train, y_train, sample_weight=w)\n",
    "    y_preds = xgb.predict(X_test)\n",
    "    y_ts.append(y_test)\n",
    "    y_pr.append(y_preds)"
   ]
  },
  {
   "cell_type": "code",
   "execution_count": 107,
   "metadata": {},
   "outputs": [
    {
     "data": {
      "text/plain": [
       "0.5946582875098193"
      ]
     },
     "execution_count": 107,
     "metadata": {},
     "output_type": "execute_result"
    }
   ],
   "source": [
    "cohen_kappa_score(y_ts, y_pr ,weights='quadratic')# word2vec(avg) title(3), description(6,5) + sample weight, cos"
   ]
  },
  {
   "cell_type": "code",
   "execution_count": 46,
   "metadata": {},
   "outputs": [
    {
     "data": {
      "text/plain": [
       "0.5874668299652991"
      ]
     },
     "execution_count": 46,
     "metadata": {},
     "output_type": "execute_result"
    }
   ],
   "source": [
    "cohen_kappa_score(y_ts, y_pr ,weights='quadratic')# word2vec(avg) title(3), description(6,5) + sample weight, cos"
   ]
  },
  {
   "cell_type": "code",
   "execution_count": null,
   "metadata": {},
   "outputs": [],
   "source": []
  },
  {
   "cell_type": "code",
   "execution_count": 141,
   "metadata": {},
   "outputs": [
    {
     "data": {
      "text/plain": [
       "0.95096921322691"
      ]
     },
     "execution_count": 141,
     "metadata": {},
     "output_type": "execute_result"
    }
   ],
   "source": [
    "cohen_kappa_score(y_ts, y_pr ,weights='quadratic')# word2vec(avg) title(3), description(6) + sample weight, cos"
   ]
  },
  {
   "cell_type": "code",
   "execution_count": 234,
   "metadata": {},
   "outputs": [
    {
     "data": {
      "text/plain": [
       "0.6401306389058992"
      ]
     },
     "execution_count": 234,
     "metadata": {},
     "output_type": "execute_result"
    }
   ],
   "source": [
    "cohen_kappa_score(y_ts, y_pr ,weights='quadratic')# desc char 1,4, compon = 5, iter = жок\n",
    "                                                  # lev 4 descr, title\n",
    "                                                  # data.drop(['target',3,4,'one_4_lev_title','one_4_lev','mean_4_lev']\n",
    "                                                  # lev adding count features one, two, three, four"
   ]
  },
  {
   "cell_type": "code",
   "execution_count": 225,
   "metadata": {},
   "outputs": [
    {
     "data": {
      "text/plain": [
       "0.6361804995970992"
      ]
     },
     "execution_count": 225,
     "metadata": {},
     "output_type": "execute_result"
    }
   ],
   "source": [
    "cohen_kappa_score(y_ts, y_pr ,weights='quadratic')# des char 1,4, compon = 5, iter = жок\n",
    "                                                  # lev 4 descr, title\n",
    "                                                  # data.drop(['target',3,4,'one_4_lev_title', 'one_4_lev']\n",
    "                                                  # lev adding count features one, two, three, four"
   ]
  },
  {
   "cell_type": "code",
   "execution_count": 214,
   "metadata": {},
   "outputs": [
    {
     "data": {
      "text/plain": [
       "0.631619937694704"
      ]
     },
     "execution_count": 214,
     "metadata": {},
     "output_type": "execute_result"
    }
   ],
   "source": [
    "cohen_kappa_score(y_ts, y_pr ,weights='quadratic')# des char 1,4, compon = 5, iter = жок\n",
    "                                                  # lev 4 descr, title\n",
    "                                                  # data.drop(['target']\n",
    "                                                  # lev adding count features one, two, three, four"
   ]
  },
  {
   "cell_type": "code",
   "execution_count": 192,
   "metadata": {},
   "outputs": [
    {
     "data": {
      "text/plain": [
       "0.5879131625268922"
      ]
     },
     "execution_count": 192,
     "metadata": {},
     "output_type": "execute_result"
    }
   ],
   "source": [
    "cohen_kappa_score(y_ts, y_pr ,weights='quadratic')# des char 1,4, compon = 5, iter = жок\n",
    "                                                  # lev 4 descr, title\n",
    "                                                  # data.drop(['target']\n",
    "                                                  # lev adding count features one, two, three, four "
   ]
  },
  {
   "cell_type": "code",
   "execution_count": 129,
   "metadata": {},
   "outputs": [
    {
     "data": {
      "text/plain": [
       "0.6215529043614316"
      ]
     },
     "execution_count": 129,
     "metadata": {},
     "output_type": "execute_result"
    }
   ],
   "source": [
    "cohen_kappa_score(y_ts, y_pr ,weights='quadratic')# des char 1,4, compon = 5, iter = жок\n",
    "                                                  # lev 4 + cos 4\n",
    "                                                  # data.drop(['target',3,4]\n",
    "                                                  # lev adding count features one, two, three, four "
   ]
  },
  {
   "cell_type": "code",
   "execution_count": 151,
   "metadata": {},
   "outputs": [
    {
     "data": {
      "text/plain": [
       "0.594885598923284"
      ]
     },
     "execution_count": 151,
     "metadata": {},
     "output_type": "execute_result"
    }
   ],
   "source": [
    "cohen_kappa_score(y_ts, y_pr ,weights='quadratic')# des char 1,4, compon = 5, iter = жок\n",
    "                                                  # lev 4 + cos 4"
   ]
  },
  {
   "cell_type": "code",
   "execution_count": 129,
   "metadata": {},
   "outputs": [
    {
     "data": {
      "text/plain": [
       "0.5948174322732627"
      ]
     },
     "execution_count": 129,
     "metadata": {},
     "output_type": "execute_result"
    }
   ],
   "source": [
    "cohen_kappa_score(y_ts, y_pr ,weights='quadratic')# des char 1,4, compon = 5\n",
    "                                                  # lev 4 + cos 4"
   ]
  },
  {
   "cell_type": "code",
   "execution_count": 95,
   "metadata": {},
   "outputs": [
    {
     "data": {
      "text/plain": [
       "0.5945837512537613"
      ]
     },
     "execution_count": 95,
     "metadata": {},
     "output_type": "execute_result"
    }
   ],
   "source": [
    "cohen_kappa_score(y_ts, y_pr ,weights='quadratic')# des char 1,4, compon = 10\n",
    "                                                  # lev 4 + cos 4"
   ]
  },
  {
   "cell_type": "code",
   "execution_count": 70,
   "metadata": {},
   "outputs": [
    {
     "data": {
      "text/plain": [
       "0.5735681036227485"
      ]
     },
     "execution_count": 70,
     "metadata": {},
     "output_type": "execute_result"
    }
   ],
   "source": [
    "cohen_kappa_score(y_ts, y_pr ,weights='quadratic')# des char 1,4, compon = 10\n",
    "                                                  # lev 4"
   ]
  },
  {
   "cell_type": "code",
   "execution_count": 45,
   "metadata": {},
   "outputs": [
    {
     "data": {
      "text/plain": [
       "0.5876947662804635"
      ]
     },
     "execution_count": 45,
     "metadata": {},
     "output_type": "execute_result"
    }
   ],
   "source": [
    "cohen_kappa_score(y_ts, y_pr ,weights='quadratic')# des char 1,4, compon = 10\n",
    "                                                  # lev 4 + cos 6"
   ]
  },
  {
   "cell_type": "code",
   "execution_count": 36,
   "metadata": {},
   "outputs": [
    {
     "data": {
      "text/plain": [
       "0.5653251954987601"
      ]
     },
     "execution_count": 36,
     "metadata": {},
     "output_type": "execute_result"
    }
   ],
   "source": [
    "cohen_kappa_score(y_ts, y_pr ,weights='quadratic')# des char 1,4, compon = 10\n",
    "                                                  # lev 3 + cos 6"
   ]
  },
  {
   "cell_type": "code",
   "execution_count": 34,
   "metadata": {},
   "outputs": [
    {
     "data": {
      "text/plain": [
       "0.5675409189508973"
      ]
     },
     "execution_count": 34,
     "metadata": {},
     "output_type": "execute_result"
    }
   ],
   "source": [
    "cohen_kappa_score(y_ts, y_pr ,weights='quadratic')# des char 1,4, compon = 10\n",
    "                                                  # lev 3 "
   ]
  },
  {
   "cell_type": "code",
   "execution_count": 142,
   "metadata": {},
   "outputs": [
    {
     "data": {
      "text/plain": [
       "Index([             0,              1,              2,   'mean_5_nei',\n",
       "          'max_5_nei',    'min_5_nei',   'mean_5_lev',    'max_5_lev',\n",
       "          'min_5_lev', 'mean_dis_lev',    'one_4_lev',    'two_4_lev',\n",
       "        'three_4_lev',   'four_4_lev'],\n",
       "      dtype='object')"
      ]
     },
     "execution_count": 142,
     "metadata": {},
     "output_type": "execute_result"
    }
   ],
   "source": [
    "X.columns"
   ]
  },
  {
   "cell_type": "code",
   "execution_count": 195,
   "metadata": {},
   "outputs": [],
   "source": [
    "feature_imp = dict(zip(list(X.columns), list(xgb.feature_importances_)))"
   ]
  },
  {
   "cell_type": "code",
   "execution_count": 199,
   "metadata": {},
   "outputs": [],
   "source": [
    "sorted_x = sorted(feature_imp.items(), key=lambda x: x[1], reverse=True)"
   ]
  },
  {
   "cell_type": "code",
   "execution_count": 33,
   "metadata": {},
   "outputs": [],
   "source": [
    "from xgboost import plot_importance\n",
    "def plot_features(booster, figsize):    \n",
    "    fig, ax = plt.subplots(1,1,figsize=figsize)\n",
    "    return plot_importance(booster=booster, ax=ax)"
   ]
  },
  {
   "cell_type": "code",
   "execution_count": 47,
   "metadata": {},
   "outputs": [
    {
     "data": {
      "text/plain": [
       "XGBClassifier(base_score=0.5, booster='gbtree', colsample_bylevel=1,\n",
       "              colsample_bynode=1, colsample_bytree=1, gamma=0, gpu_id=-1,\n",
       "              importance_type='gain', interaction_constraints='',\n",
       "              learning_rate=0.300000012, max_delta_step=0, max_depth=6,\n",
       "              min_child_weight=1, missing=nan, monotone_constraints='()',\n",
       "              n_estimators=100, n_jobs=0, num_parallel_tree=1,\n",
       "              objective='multi:softprob', random_state=0, reg_alpha=0,\n",
       "              reg_lambda=1, scale_pos_weight=None, subsample=1,\n",
       "              tree_method='exact', validate_parameters=1, verbosity=None)"
      ]
     },
     "execution_count": 47,
     "metadata": {},
     "output_type": "execute_result"
    }
   ],
   "source": [
    "xgb = XGBClassifier()\n",
    "xgb.fit(X, y, sample_weight=weight)"
   ]
  },
  {
   "cell_type": "code",
   "execution_count": 48,
   "metadata": {},
   "outputs": [
    {
     "data": {
      "text/plain": [
       "<matplotlib.axes._subplots.AxesSubplot at 0x1d27694e788>"
      ]
     },
     "execution_count": 48,
     "metadata": {},
     "output_type": "execute_result"
    },
    {
     "data": {
      "image/png": "[encoded data removed]",
      "text/plain": [
       "<Figure size 1008x720 with 1 Axes>"
      ]
     },
     "metadata": {
      "needs_background": "light"
     },
     "output_type": "display_data"
    }
   ],
   "source": [
    "plot_features(xgb, (14,10))"
   ]
  },
  {
   "cell_type": "code",
   "execution_count": 35,
   "metadata": {},
   "outputs": [
    {
     "data": {
      "text/plain": [
       "Index([                     0,                      1,                      2,\n",
       "                 'mean_4_lev',            'max_4_lev',            'min_4_lev',\n",
       "             'mean_dis_lev_4',     'mean_4_lev_title',      'max_4_lev_title',\n",
       "            'min_4_lev_title', 'mean_dis_lev_4_title'],\n",
       "      dtype='object')"
      ]
     },
     "execution_count": 35,
     "metadata": {},
     "output_type": "execute_result"
    }
   ],
   "source": [
    "X.columns"
   ]
  },
  {
   "cell_type": "code",
   "execution_count": null,
   "metadata": {},
   "outputs": [],
   "source": []
  },
  {
   "cell_type": "code",
   "execution_count": null,
   "metadata": {},
   "outputs": [],
   "source": []
  },
  {
   "cell_type": "code",
   "execution_count": 285,
   "metadata": {
    "collapsed": true
   },
   "outputs": [
    {
     "data": {
      "text/plain": [
       "<matplotlib.axes._subplots.AxesSubplot at 0x16dcaa3fec8>"
      ]
     },
     "execution_count": 285,
     "metadata": {},
     "output_type": "execute_result"
    },
    {
     "data": {
      "image/png": "[encoded data removed]",
      "text/plain": [
       "<Figure size 432x288 with 2 Axes>"
      ]
     },
     "metadata": {
      "needs_background": "light"
     },
     "output_type": "display_data"
    }
   ],
   "source": [
    "sns.heatmap(confusion_matrix(y_ts, y_pr), annot=True)"
   ]
  },
  {
   "cell_type": "code",
   "execution_count": null,
   "metadata": {},
   "outputs": [],
   "source": []
  },
  {
   "cell_type": "code",
   "execution_count": null,
   "metadata": {},
   "outputs": [],
   "source": []
  },
  {
   "cell_type": "code",
   "execution_count": null,
   "metadata": {},
   "outputs": [],
   "source": []
  }
 ],
 "metadata": {
  "kernelspec": {
   "display_name": "Python 3",
   "language": "python",
   "name": "python3"
  },
  "language_info": {
   "codemirror_mode": {
    "name": "ipython",
    "version": 3
   },
   "file_extension": ".py",
   "mimetype": "text/x-python",
   "name": "python",
   "nbconvert_exporter": "python",
   "pygments_lexer": "ipython3",
   "version": "3.7.7"
  }
 },
 "nbformat": 4,
 "nbformat_minor": 4
}
