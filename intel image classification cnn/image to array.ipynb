{
 "cells": [
  {
   "cell_type": "code",
   "execution_count": 1,
   "metadata": {},
   "outputs": [
    {
     "name": "stderr",
     "output_type": "stream",
     "text": [
      "Using TensorFlow backend.\n"
     ]
    }
   ],
   "source": [
    "import tensorflow as tf\n",
    "import pandas as pd\n",
    "import matplotlib.pyplot as plt\n",
    "import seaborn as sns\n",
    "import random\n",
    "\n",
    "import PIL\n",
    "import matplotlib.pyplot as plt\n",
    "%matplotlib inline\n",
    "import cv2\n",
    "import os\n",
    "import random\n",
    "import math\n",
    "import numpy as np\n",
    "import h5py\n",
    "import matplotlib.pyplot as plt\n",
    "import tensorflow as tf\n",
    "\n",
    "from numpy import save\n",
    "from numpy import load\n",
    "\n",
    "from tensorflow.keras import Sequential\n",
    "from tensorflow.keras.layers import Dense\n",
    "from tensorflow import keras\n",
    "from tensorflow.keras import Input, Model\n",
    "\n",
    "from tensorflow.keras.layers import Conv2D\n",
    "from tensorflow.keras.layers import MaxPool2D\n",
    "from tensorflow.keras.layers import Flatten\n",
    "\n",
    "from keras.preprocessing.image import load_img\n",
    "from keras.preprocessing.image import img_to_array\n",
    "from keras.preprocessing.image import array_to_img"
   ]
  },
  {
   "cell_type": "code",
   "execution_count": null,
   "metadata": {},
   "outputs": [],
   "source": []
  },
  {
   "cell_type": "code",
   "execution_count": 3,
   "metadata": {},
   "outputs": [],
   "source": [
    "img=load_img('G:/Desktop/intel image classification/seg_train/seg_train/buildings/0.jpg')"
   ]
  },
  {
   "cell_type": "code",
   "execution_count": 5,
   "metadata": {},
   "outputs": [],
   "source": [
    "img_array = img_to_array(img)"
   ]
  },
  {
   "cell_type": "code",
   "execution_count": 6,
   "metadata": {
    "collapsed": true
   },
   "outputs": [
    {
     "data": {
      "text/plain": [
       "array([[[247., 247., 245.],\n",
       "        [247., 247., 245.],\n",
       "        [248., 248., 246.],\n",
       "        ...,\n",
       "        [248., 248., 248.],\n",
       "        [247., 247., 245.],\n",
       "        [247., 247., 245.]],\n",
       "\n",
       "       [[246., 246., 244.],\n",
       "        [247., 247., 245.],\n",
       "        [247., 247., 245.],\n",
       "        ...,\n",
       "        [248., 248., 248.],\n",
       "        [247., 247., 245.],\n",
       "        [247., 247., 245.]],\n",
       "\n",
       "       [[246., 246., 244.],\n",
       "        [246., 246., 244.],\n",
       "        [247., 247., 245.],\n",
       "        ...,\n",
       "        [248., 248., 248.],\n",
       "        [247., 247., 245.],\n",
       "        [247., 247., 245.]],\n",
       "\n",
       "       ...,\n",
       "\n",
       "       [[ 47.,  46.,  44.],\n",
       "        [ 62.,  61.,  59.],\n",
       "        [ 49.,  48.,  46.],\n",
       "        ...,\n",
       "        [ 51.,  46.,  43.],\n",
       "        [ 45.,  40.,  37.],\n",
       "        [ 94.,  89.,  86.]],\n",
       "\n",
       "       [[ 77.,  76.,  74.],\n",
       "        [ 47.,  46.,  44.],\n",
       "        [ 43.,  42.,  40.],\n",
       "        ...,\n",
       "        [ 22.,  17.,  14.],\n",
       "        [ 55.,  50.,  47.],\n",
       "        [ 39.,  34.,  31.]],\n",
       "\n",
       "       [[ 59.,  58.,  56.],\n",
       "        [ 55.,  54.,  52.],\n",
       "        [ 60.,  59.,  57.],\n",
       "        ...,\n",
       "        [ 31.,  26.,  23.],\n",
       "        [ 51.,  46.,  43.],\n",
       "        [ 63.,  58.,  55.]]], dtype=float32)"
      ]
     },
     "execution_count": 6,
     "metadata": {},
     "output_type": "execute_result"
    }
   ],
   "source": [
    "img_array"
   ]
  },
  {
   "cell_type": "code",
   "execution_count": 8,
   "metadata": {},
   "outputs": [],
   "source": [
    "q = tf.image.resize(img_array, [192, 192])"
   ]
  },
  {
   "cell_type": "code",
   "execution_count": 12,
   "metadata": {},
   "outputs": [],
   "source": [
    "q /= 255.0"
   ]
  },
  {
   "cell_type": "code",
   "execution_count": 18,
   "metadata": {},
   "outputs": [
    {
     "data": {
      "text/plain": [
       "TensorShape([192, 192, 3])"
      ]
     },
     "execution_count": 18,
     "metadata": {},
     "output_type": "execute_result"
    }
   ],
   "source": [
    "q.shape"
   ]
  },
  {
   "cell_type": "code",
   "execution_count": 19,
   "metadata": {},
   "outputs": [
    {
     "data": {
      "text/plain": [
       "(150, 150, 3)"
      ]
     },
     "execution_count": 19,
     "metadata": {},
     "output_type": "execute_result"
    }
   ],
   "source": [
    "img_array.shape"
   ]
  },
  {
   "cell_type": "code",
   "execution_count": 20,
   "metadata": {},
   "outputs": [],
   "source": [
    "w = q.numpy()"
   ]
  },
  {
   "cell_type": "code",
   "execution_count": 22,
   "metadata": {},
   "outputs": [
    {
     "data": {
      "text/plain": [
       "(192, 192, 3)"
      ]
     },
     "execution_count": 22,
     "metadata": {},
     "output_type": "execute_result"
    }
   ],
   "source": [
    "w.shape"
   ]
  },
  {
   "cell_type": "code",
   "execution_count": null,
   "metadata": {},
   "outputs": [],
   "source": []
  },
  {
   "cell_type": "code",
   "execution_count": 3,
   "metadata": {},
   "outputs": [],
   "source": [
    "DATADIR='G:/Desktop/intel image classification/seg_train/seg_train/'\n",
    "CATEGORIES=['buildings','forest','glacier','mountain','sea','street']\n",
    "\n",
    "IMG_SIZE=256"
   ]
  },
  {
   "cell_type": "code",
   "execution_count": 4,
   "metadata": {},
   "outputs": [
    {
     "name": "stdout",
     "output_type": "stream",
     "text": [
      "Wall time: 1min 23s\n"
     ]
    }
   ],
   "source": [
    "%%time\n",
    "training_data=[]\n",
    "def create_training_data():\n",
    "    for category in CATEGORIES:\n",
    "        path=os.path.join(DATADIR, category)\n",
    "        class_num=CATEGORIES.index(category)\n",
    "        for img in os.listdir(path):\n",
    "            try:\n",
    "                img=load_img(os.path.join(path,img))\n",
    "                img_array = img_to_array(img)\n",
    "                img_array = tf.image.resize(img_array, [IMG_SIZE, IMG_SIZE])\n",
    "                img_array /= 255.0\n",
    "                img_array = img_array.numpy()\n",
    "                img_array = img_array.astype('float16')\n",
    "                training_data.append([img_array,class_num])\n",
    "            except Exception as e:\n",
    "                pass\n",
    "create_training_data()"
   ]
  },
  {
   "cell_type": "code",
   "execution_count": 5,
   "metadata": {},
   "outputs": [],
   "source": [
    "random.shuffle(training_data)"
   ]
  },
  {
   "cell_type": "code",
   "execution_count": 9,
   "metadata": {
    "collapsed": true
   },
   "outputs": [
    {
     "data": {
      "text/plain": [
       "array([[[0.5566 , 0.7256 , 0.89   ],\n",
       "        [0.5566 , 0.7256 , 0.89   ],\n",
       "        [0.5566 , 0.7256 , 0.89   ],\n",
       "        ...,\n",
       "        [0.545  , 0.714  , 0.8823 ],\n",
       "        [0.545  , 0.714  , 0.8823 ],\n",
       "        [0.545  , 0.714  , 0.8823 ]],\n",
       "\n",
       "       [[0.558  , 0.727  , 0.8916 ],\n",
       "        [0.558  , 0.727  , 0.8916 ],\n",
       "        [0.558  , 0.727  , 0.8916 ],\n",
       "        ...,\n",
       "        [0.5464 , 0.7153 , 0.884  ],\n",
       "        [0.5464 , 0.7153 , 0.884  ],\n",
       "        [0.5464 , 0.7153 , 0.884  ]],\n",
       "\n",
       "       [[0.5605 , 0.7295 , 0.894  ],\n",
       "        [0.5605 , 0.7295 , 0.894  ],\n",
       "        [0.5605 , 0.7295 , 0.894  ],\n",
       "        ...,\n",
       "        [0.549  , 0.7173 , 0.886  ],\n",
       "        [0.549  , 0.7173 , 0.886  ],\n",
       "        [0.549  , 0.7173 , 0.886  ]],\n",
       "\n",
       "       ...,\n",
       "\n",
       "       [[0.455  , 0.443  , 0.2747 ],\n",
       "        [0.507  , 0.492  , 0.3252 ],\n",
       "        [0.587  , 0.5674 , 0.4033 ],\n",
       "        ...,\n",
       "        [0.03784, 0.05338, 0.0654 ],\n",
       "        [0.0433 , 0.05887, 0.0709 ],\n",
       "        [0.04684, 0.0624 , 0.07446]],\n",
       "\n",
       "       [[0.6553 , 0.638  , 0.4722 ],\n",
       "        [0.5786 , 0.561  , 0.3992 ],\n",
       "        [0.461  , 0.4414 , 0.2861 ],\n",
       "        ...,\n",
       "        [0.0755 , 0.08875, 0.10535],\n",
       "        [0.09576, 0.109  , 0.1256 ],\n",
       "        [0.1089 , 0.12213, 0.1388 ]],\n",
       "\n",
       "       [[0.784  , 0.7646 , 0.6    ],\n",
       "        [0.6255 , 0.606  , 0.447  ],\n",
       "        [0.3794 , 0.3599 , 0.2103 ],\n",
       "        ...,\n",
       "        [0.09985, 0.1116 , 0.1312 ],\n",
       "        [0.1298 , 0.1415 , 0.1611 ],\n",
       "        [0.149  , 0.1608 , 0.1804 ]]], dtype=float16)"
      ]
     },
     "execution_count": 9,
     "metadata": {},
     "output_type": "execute_result"
    }
   ],
   "source": [
    "training_data[0][0]"
   ]
  },
  {
   "cell_type": "code",
   "execution_count": 10,
   "metadata": {},
   "outputs": [],
   "source": [
    "X=[]\n",
    "y=[]\n",
    "for categories, label in training_data:\n",
    "    X.append(categories)\n",
    "    y.append(label)"
   ]
  },
  {
   "cell_type": "code",
   "execution_count": 12,
   "metadata": {},
   "outputs": [
    {
     "data": {
      "text/plain": [
       "14034"
      ]
     },
     "execution_count": 12,
     "metadata": {},
     "output_type": "execute_result"
    }
   ],
   "source": [
    "len(X)"
   ]
  },
  {
   "cell_type": "code",
   "execution_count": 13,
   "metadata": {},
   "outputs": [
    {
     "data": {
      "text/plain": [
       "list"
      ]
     },
     "execution_count": 13,
     "metadata": {},
     "output_type": "execute_result"
    }
   ],
   "source": [
    "type(X)"
   ]
  },
  {
   "cell_type": "code",
   "execution_count": 14,
   "metadata": {},
   "outputs": [
    {
     "name": "stdout",
     "output_type": "stream",
     "text": [
      "Wall time: 27.3 s\n"
     ]
    }
   ],
   "source": [
    "%%time\n",
    "X = np.array(X)"
   ]
  },
  {
   "cell_type": "code",
   "execution_count": 15,
   "metadata": {},
   "outputs": [
    {
     "data": {
      "text/plain": [
       "(14034, 256, 256, 3)"
      ]
     },
     "execution_count": 15,
     "metadata": {},
     "output_type": "execute_result"
    }
   ],
   "source": [
    "X.shape"
   ]
  },
  {
   "cell_type": "code",
   "execution_count": 16,
   "metadata": {},
   "outputs": [
    {
     "data": {
      "text/plain": [
       "dtype('float16')"
      ]
     },
     "execution_count": 16,
     "metadata": {},
     "output_type": "execute_result"
    }
   ],
   "source": [
    "X.dtype"
   ]
  },
  {
   "cell_type": "code",
   "execution_count": 18,
   "metadata": {},
   "outputs": [
    {
     "data": {
      "text/plain": [
       "5518393344"
      ]
     },
     "execution_count": 18,
     "metadata": {},
     "output_type": "execute_result"
    }
   ],
   "source": [
    "X.nbytes"
   ]
  },
  {
   "cell_type": "code",
   "execution_count": 20,
   "metadata": {},
   "outputs": [],
   "source": [
    "y = np.array(y)"
   ]
  },
  {
   "cell_type": "code",
   "execution_count": 22,
   "metadata": {},
   "outputs": [
    {
     "data": {
      "text/plain": [
       "(14034,)"
      ]
     },
     "execution_count": 22,
     "metadata": {},
     "output_type": "execute_result"
    }
   ],
   "source": [
    "y.shape"
   ]
  },
  {
   "cell_type": "code",
   "execution_count": 23,
   "metadata": {},
   "outputs": [
    {
     "data": {
      "text/plain": [
       "dtype('int32')"
      ]
     },
     "execution_count": 23,
     "metadata": {},
     "output_type": "execute_result"
    }
   ],
   "source": [
    "y.dtype"
   ]
  },
  {
   "cell_type": "code",
   "execution_count": 24,
   "metadata": {},
   "outputs": [],
   "source": [
    "y = y.astype('int8')"
   ]
  },
  {
   "cell_type": "code",
   "execution_count": 25,
   "metadata": {},
   "outputs": [],
   "source": [
    "save('G:/Desktop/intel image classification/keras_train_x_256(3).npy', X)\n",
    "save('G:/Desktop/intel image classification/keras_train_y_256(3)(all).npy', y)"
   ]
  },
  {
   "cell_type": "code",
   "execution_count": 34,
   "metadata": {},
   "outputs": [],
   "source": [
    "del X"
   ]
  },
  {
   "cell_type": "code",
   "execution_count": 35,
   "metadata": {},
   "outputs": [],
   "source": [
    "del y"
   ]
  },
  {
   "cell_type": "markdown",
   "metadata": {},
   "source": [
    "# test set"
   ]
  },
  {
   "cell_type": "code",
   "execution_count": 36,
   "metadata": {},
   "outputs": [],
   "source": [
    "DATADIR='G:/Desktop/intel image classification/seg_test/seg_test/'\n",
    "CATEGORIES=['buildings','forest','glacier','mountain','sea','street']\n",
    "\n",
    "IMG_SIZE=256"
   ]
  },
  {
   "cell_type": "code",
   "execution_count": 37,
   "metadata": {},
   "outputs": [
    {
     "name": "stdout",
     "output_type": "stream",
     "text": [
      "Wall time: 48.6 s\n"
     ]
    }
   ],
   "source": [
    "%%time\n",
    "training_data=[]\n",
    "def create_training_data():\n",
    "    for category in CATEGORIES:\n",
    "        path=os.path.join(DATADIR, category)\n",
    "        class_num=CATEGORIES.index(category)\n",
    "        for img in os.listdir(path):\n",
    "            try:\n",
    "                img=load_img(os.path.join(path,img))\n",
    "                img_array = img_to_array(img)\n",
    "                img_array = tf.image.resize(img_array, [IMG_SIZE, IMG_SIZE])\n",
    "                img_array /= 255.0\n",
    "                img_array = img_array.numpy()\n",
    "                img_array = img_array.astype('float16')\n",
    "                training_data.append([img_array,class_num])\n",
    "            except Exception as e:\n",
    "                pass\n",
    "create_training_data()"
   ]
  },
  {
   "cell_type": "code",
   "execution_count": 38,
   "metadata": {},
   "outputs": [],
   "source": [
    "random.shuffle(training_data)\n",
    "X=[]\n",
    "y=[]\n",
    "for categories, label in training_data:\n",
    "    X.append(categories)\n",
    "    y.append(label)"
   ]
  },
  {
   "cell_type": "code",
   "execution_count": 39,
   "metadata": {},
   "outputs": [
    {
     "name": "stdout",
     "output_type": "stream",
     "text": [
      "Wall time: 809 ms\n"
     ]
    }
   ],
   "source": [
    "X = np.array(X)"
   ]
  },
  {
   "cell_type": "code",
   "execution_count": 41,
   "metadata": {},
   "outputs": [
    {
     "data": {
      "text/plain": [
       "(3000, 256, 256, 3)"
      ]
     },
     "execution_count": 41,
     "metadata": {},
     "output_type": "execute_result"
    }
   ],
   "source": [
    "X.shape"
   ]
  },
  {
   "cell_type": "code",
   "execution_count": 42,
   "metadata": {},
   "outputs": [],
   "source": [
    "y = np.array(y)"
   ]
  },
  {
   "cell_type": "code",
   "execution_count": 43,
   "metadata": {},
   "outputs": [],
   "source": [
    "y = y.astype('int8')"
   ]
  },
  {
   "cell_type": "code",
   "execution_count": 44,
   "metadata": {},
   "outputs": [],
   "source": [
    "save('G:/Desktop/intel image classification/keras_test_x_256(3).npy', X)\n",
    "save('G:/Desktop/intel image classification/keras_test_y_256(3)(all).npy', y)"
   ]
  },
  {
   "cell_type": "code",
   "execution_count": null,
   "metadata": {},
   "outputs": [],
   "source": []
  },
  {
   "cell_type": "code",
   "execution_count": null,
   "metadata": {},
   "outputs": [],
   "source": []
  },
  {
   "cell_type": "code",
   "execution_count": null,
   "metadata": {},
   "outputs": [],
   "source": []
  }
 ],
 "metadata": {
  "kernelspec": {
   "display_name": "Python 3",
   "language": "python",
   "name": "python3"
  },
  "language_info": {
   "codemirror_mode": {
    "name": "ipython",
    "version": 3
   },
   "file_extension": ".py",
   "mimetype": "text/x-python",
   "name": "python",
   "nbconvert_exporter": "python",
   "pygments_lexer": "ipython3",
   "version": "3.7.7"
  }
 },
 "nbformat": 4,
 "nbformat_minor": 4
}
