{
 "cells": [
  {
   "cell_type": "code",
   "execution_count": 1,
   "metadata": {},
   "outputs": [],
   "source": [
    "import pandas as pd\n",
    "import numpy as np\n",
    "import thinkstats2\n",
    "import seaborn as sns\n",
    "import scipy\n",
    "import matplotlib.pyplot as plt\n",
    "import random\n",
    "import thinkplot\n",
    "import math\n",
    "from scipy.stats import ttest_ind\n",
    "from scipy.stats import chisquare"
   ]
  },
  {
   "cell_type": "code",
   "execution_count": 2,
   "metadata": {},
   "outputs": [],
   "source": [
    "data = pd.read_csv('G:/Desktop/datasets/flight-delays-spring-2018/flight_delays_train.csv')"
   ]
  },
  {
   "cell_type": "code",
   "execution_count": 3,
   "metadata": {},
   "outputs": [],
   "source": [
    "def GroupByDay(transactions, func=np.mean):\n",
    "    \"\"\"Groups transactions by day and compute the daily mean ppg.\n",
    "\n",
    "    transactions: DataFrame of transactions\n",
    "\n",
    "    returns: DataFrame of daily prices\n",
    "    \"\"\"\n",
    "    grouped = transactions[['date', 'ppg']].groupby('date')\n",
    "    daily = grouped.aggregate(func)\n",
    "\n",
    "    daily['date'] = daily.index\n",
    "    start = daily.date[0]\n",
    "    one_year = np.timedelta64(1, 'Y')\n",
    "    daily['years'] = (daily.date - start) / one_year\n",
    "\n",
    "    return daily"
   ]
  },
  {
   "cell_type": "code",
   "execution_count": 4,
   "metadata": {},
   "outputs": [],
   "source": [
    "def GroupByQualityAndDay(transactions):\n",
    "    \"\"\"Divides transactions by quality and computes mean daily price.\n",
    "\n",
    "    transaction: DataFrame of transactions\n",
    "    \n",
    "    returns: map from quality to time series of ppg\n",
    "    \"\"\"\n",
    "    groups = transactions.groupby('quality')\n",
    "    dailies = {}\n",
    "    for name, group in groups:\n",
    "        dailies[name] = GroupByDay(group)        \n",
    "\n",
    "    return dailies"
   ]
  },
  {
   "cell_type": "code",
   "execution_count": 5,
   "metadata": {},
   "outputs": [],
   "source": [
    "import statsmodels.formula.api as smf\n",
    "\n",
    "def RunLinearModel(daily):\n",
    "    model = smf.ols('ppg ~ years', data=daily)\n",
    "    results = model.fit()\n",
    "    return model, results"
   ]
  },
  {
   "cell_type": "code",
   "execution_count": 6,
   "metadata": {},
   "outputs": [],
   "source": [
    "def PlotFittedValues(model, results, label=''):\n",
    "    \"\"\"Plots original data and fitted values.\n",
    "\n",
    "    model: StatsModel model object\n",
    "    results: StatsModel results object\n",
    "    \"\"\"\n",
    "    years = model.exog[:,1]\n",
    "    values = model.endog\n",
    "    thinkplot.Scatter(years, values, s=15, label=label)\n",
    "    thinkplot.Plot(years, results.fittedvalues, label='model', color='#ff7f00')"
   ]
  },
  {
   "cell_type": "code",
   "execution_count": 7,
   "metadata": {},
   "outputs": [],
   "source": [
    "def PlotLinearModel(daily, name):\n",
    "    \"\"\"Plots a linear fit to a sequence of prices, and the residuals.\n",
    "    \n",
    "    daily: DataFrame of daily prices\n",
    "    name: string\n",
    "    \"\"\"\n",
    "    model, results = RunLinearModel(daily)\n",
    "    PlotFittedValues(model, results, label=name)\n",
    "    thinkplot.Config(title='Fitted values',\n",
    "                     xlabel='Years',\n",
    "                     xlim=[-0.1, 3.8],\n",
    "                     ylabel='Price per gram ($)')"
   ]
  },
  {
   "cell_type": "code",
   "execution_count": 8,
   "metadata": {},
   "outputs": [],
   "source": [
    "def PlotRollingMean(daily, name):\n",
    "    \"\"\"Plots rolling mean.\n",
    "\n",
    "    daily: DataFrame of daily prices\n",
    "    \"\"\"\n",
    "    dates = pd.date_range(daily.index.min(), daily.index.max())\n",
    "    reindexed = daily.reindex(dates)\n",
    "\n",
    "    thinkplot.Scatter(reindexed.ppg, s=15, alpha=0.2, label=name)\n",
    "    roll_mean = reindexed.ppg.rolling(30).mean()\n",
    "    thinkplot.Plot(roll_mean, label='rolling mean', color='#ff7f00')\n",
    "    plt.xticks(rotation=30)\n",
    "    thinkplot.Config(ylabel='price per gram ($)')"
   ]
  },
  {
   "cell_type": "code",
   "execution_count": 9,
   "metadata": {},
   "outputs": [],
   "source": [
    "def PlotEWMA(daily, name):\n",
    "    \"\"\"Plots rolling mean.\n",
    "\n",
    "    daily: DataFrame of daily prices\n",
    "    \"\"\"\n",
    "    dates = pd.date_range(daily.index.min(), daily.index.max())\n",
    "    reindexed = daily.reindex(dates)\n",
    "\n",
    "    thinkplot.Scatter(reindexed.ppg, s=15, alpha=0.2, label=name)\n",
    "    roll_mean = reindexed.ppg.ewm(30).mean()\n",
    "    thinkplot.Plot(roll_mean, label='EWMA', color='#ff7f00')\n",
    "    plt.xticks(rotation=30)\n",
    "    thinkplot.Config(ylabel='price per gram ($)')"
   ]
  },
  {
   "cell_type": "code",
   "execution_count": 10,
   "metadata": {},
   "outputs": [],
   "source": [
    "def FillMissing(daily, span=30):\n",
    "    \"\"\"Fills missing values with an exponentially weighted moving average.\n",
    "\n",
    "    Resulting DataFrame has new columns 'ewma' and 'resid'.\n",
    "\n",
    "    daily: DataFrame of daily prices\n",
    "    span: window size (sort of) passed to ewma\n",
    "\n",
    "    returns: new DataFrame of daily prices\n",
    "    \"\"\"\n",
    "    dates = pd.date_range(daily.index.min(), daily.index.max())\n",
    "    reindexed = daily.reindex(dates)\n",
    "\n",
    "    ewma = reindexed.ppg.ewm(span=span).mean()\n",
    "\n",
    "    resid = (reindexed.ppg - ewma).dropna()\n",
    "    fake_data = ewma + thinkstats2.Resample(resid, len(reindexed))\n",
    "    reindexed.ppg.fillna(fake_data, inplace=True)\n",
    "\n",
    "    reindexed['ewma'] = ewma\n",
    "    reindexed['resid'] = reindexed.ppg - ewma\n",
    "    return reindexed"
   ]
  },
  {
   "cell_type": "code",
   "execution_count": null,
   "metadata": {},
   "outputs": [],
   "source": []
  },
  {
   "cell_type": "code",
   "execution_count": null,
   "metadata": {},
   "outputs": [],
   "source": []
  },
  {
   "cell_type": "code",
   "execution_count": null,
   "metadata": {},
   "outputs": [],
   "source": []
  },
  {
   "cell_type": "code",
   "execution_count": null,
   "metadata": {},
   "outputs": [],
   "source": []
  },
  {
   "cell_type": "code",
   "execution_count": null,
   "metadata": {},
   "outputs": [],
   "source": []
  },
  {
   "cell_type": "code",
   "execution_count": null,
   "metadata": {},
   "outputs": [],
   "source": []
  },
  {
   "cell_type": "code",
   "execution_count": null,
   "metadata": {},
   "outputs": [],
   "source": []
  }
 ],
 "metadata": {
  "kernelspec": {
   "display_name": "Python 3",
   "language": "python",
   "name": "python3"
  },
  "language_info": {
   "codemirror_mode": {
    "name": "ipython",
    "version": 3
   },
   "file_extension": ".py",
   "mimetype": "text/x-python",
   "name": "python",
   "nbconvert_exporter": "python",
   "pygments_lexer": "ipython3",
   "version": "3.7.7"
  }
 },
 "nbformat": 4,
 "nbformat_minor": 2
}
