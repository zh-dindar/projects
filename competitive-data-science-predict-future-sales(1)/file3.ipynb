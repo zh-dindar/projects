{
 "cells": [
  {
   "cell_type": "code",
   "execution_count": 1,
   "metadata": {},
   "outputs": [],
   "source": [
    "import pandas as pd\n",
    "import seaborn as sns\n",
    "import matplotlib.pyplot as plt\n",
    "import numpy as np"
   ]
  },
  {
   "cell_type": "code",
   "execution_count": 2,
   "metadata": {},
   "outputs": [],
   "source": [
    "pd.set_option('display.max_rows', 500)\n",
    "pd.set_option('display.max_columns', 100)"
   ]
  },
  {
   "cell_type": "code",
   "execution_count": null,
   "metadata": {},
   "outputs": [],
   "source": [
    "item_categories = pd.read_csv('C:/Users/Dindar/competitive-data-science-predict-future-sales(1)/tables/main_item_categories.csv')\n",
    "items = pd.read_csv('C:/Users/Dindar/competitive-data-science-predict-future-sales(1)/tables/main_items.csv')\n",
    "sales_train = pd.read_csv('C:/Users/Dindar/competitive-data-science-predict-future-sales(1)/tables/main_sales_train.csv')\n",
    "\n",
    "shops = pd.read_csv('C:/Users/Dindar/competitive-data-science-predict-future-sales(1)/tables/main_shops.csv')"
   ]
  },
  {
   "cell_type": "code",
   "execution_count": null,
   "metadata": {},
   "outputs": [],
   "source": [
    "df = pd.read_csv('C:/Users/Dindar/competitive-data-science-predict-future-sales(1)/tables/main_df.csv')\n",
    "data = pd.read_csv('C:/Users/Dindar/competitive-data-science-predict-future-sales(1)/tables/main_all_data.csv')"
   ]
  },
  {
   "cell_type": "code",
   "execution_count": null,
   "metadata": {},
   "outputs": [],
   "source": [
    "test = pd.read_csv('C:/Users/Dindar/competitive-data-science-predict-future-sales(1)/test.csv')"
   ]
  },
  {
   "cell_type": "code",
   "execution_count": null,
   "metadata": {},
   "outputs": [],
   "source": [
    "data_encoded = pd.read_csv('C:/Users/Dindar/competitive-data-science-predict-future-sales(1)/tables/main_all_data_encoded.csv')"
   ]
  },
  {
   "cell_type": "code",
   "execution_count": 2,
   "metadata": {},
   "outputs": [],
   "source": [
    "matrix = pd.read_csv('C:/Users/Dindar/competitive-data-science-predict-future-sales(1)/tables/matrix.csv')"
   ]
  },
  {
   "cell_type": "code",
   "execution_count": null,
   "metadata": {},
   "outputs": [],
   "source": [
    "matrix.shape"
   ]
  },
  {
   "cell_type": "code",
   "execution_count": null,
   "metadata": {},
   "outputs": [],
   "source": []
  },
  {
   "cell_type": "code",
   "execution_count": null,
   "metadata": {},
   "outputs": [],
   "source": [
    "ex = data_encoded[data_encoded['date_block_num']>11]"
   ]
  },
  {
   "cell_type": "code",
   "execution_count": null,
   "metadata": {},
   "outputs": [],
   "source": []
  },
  {
   "cell_type": "code",
   "execution_count": null,
   "metadata": {},
   "outputs": [],
   "source": []
  },
  {
   "cell_type": "code",
   "execution_count": null,
   "metadata": {},
   "outputs": [],
   "source": [
    "train = ex[ex['date_block_num']<34]\n",
    "sub_test = ex[ex['date_block_num']==34]"
   ]
  },
  {
   "cell_type": "code",
   "execution_count": null,
   "metadata": {},
   "outputs": [],
   "source": []
  },
  {
   "cell_type": "code",
   "execution_count": null,
   "metadata": {},
   "outputs": [],
   "source": []
  },
  {
   "cell_type": "code",
   "execution_count": 3,
   "metadata": {},
   "outputs": [],
   "source": [
    "df = matrix[['item_cnt_month_lag_1',\n",
    " 'date_item_city_avg_item_cnt_lag_1',\n",
    " 'item_cnt_month_lag_2',\n",
    " 'item_category_id',\n",
    " 'item_cnt_month_lag_3',\n",
    " 'date_shop_cat_avg_item_cnt_lag_1',\n",
    " 'item_cnt_month_lag_6',\n",
    " 'date_item_avg_item_cnt_lag_1',\n",
    " 'item_first_sale',\n",
    " 'city_code']]"
   ]
  },
  {
   "cell_type": "code",
   "execution_count": 4,
   "metadata": {},
   "outputs": [],
   "source": [
    "matrix['sum'] = df.sum(axis=1)\n",
    "matrix['std'] = df.std(axis=1)\n",
    "matrix['mean'] = df.mean(axis=1)\n",
    "matrix['median'] = df.median(axis=1)\n",
    "matrix['max'] = df.max(axis=1)\n",
    "matrix['min'] = df.min(axis=1)"
   ]
  },
  {
   "cell_type": "code",
   "execution_count": 5,
   "metadata": {},
   "outputs": [],
   "source": [
    "del df"
   ]
  },
  {
   "cell_type": "code",
   "execution_count": null,
   "metadata": {},
   "outputs": [],
   "source": []
  },
  {
   "cell_type": "code",
   "execution_count": 6,
   "metadata": {},
   "outputs": [],
   "source": [
    "X_train = matrix[matrix.date_block_num < 33].drop(['item_cnt_month'], axis=1)\n",
    "Y_train = matrix[matrix.date_block_num < 33]['item_cnt_month']\n",
    "X_valid = matrix[matrix.date_block_num == 33].drop(['item_cnt_month'], axis=1)\n",
    "Y_valid = matrix[matrix.date_block_num == 33]['item_cnt_month']\n",
    "X_test = matrix[matrix.date_block_num == 34].drop(['item_cnt_month'], axis=1)"
   ]
  },
  {
   "cell_type": "code",
   "execution_count": 7,
   "metadata": {},
   "outputs": [],
   "source": [
    "import PIL\n",
    "import numpy as np\n",
    "import pandas as pd\n",
    "import matplotlib.pyplot as plt\n",
    "%matplotlib inline\n",
    "import cv2\n",
    "import os\n",
    "import random\n",
    "import math\n",
    "import numpy as np\n",
    "import h5py\n",
    "import matplotlib.pyplot as plt\n",
    "import tensorflow as tf\n",
    "\n",
    "#from tensorflow.python.framework import ops\n",
    "\n",
    "from numpy import save\n",
    "from numpy import load"
   ]
  },
  {
   "cell_type": "code",
   "execution_count": 9,
   "metadata": {},
   "outputs": [],
   "source": [
    "from tensorflow.keras import Sequential\n",
    "from tensorflow.keras.layers import Dense"
   ]
  },
  {
   "cell_type": "code",
   "execution_count": 33,
   "metadata": {},
   "outputs": [],
   "source": [
    "model = Sequential()\n",
    "model.add(tf.keras.layers.BatchNormalization())\n",
    "model.add(Dense(25,activation='relu',kernel_initializer='glorot_uniform',\n",
    "    bias_initializer='zeros', input_shape=(30000,)))\n",
    "model.add(tf.keras.layers.BatchNormalization())\n",
    "model.add(Dense(20,activation='relu',kernel_initializer='glorot_uniform',\n",
    "    bias_initializer='zeros'))\n",
    "model.add(tf.keras.layers.BatchNormalization())\n",
    "model.add(Dense(1,activation='relu',kernel_initializer='glorot_uniform',\n",
    "    bias_initializer='zeros'))"
   ]
  },
  {
   "cell_type": "code",
   "execution_count": 34,
   "metadata": {},
   "outputs": [],
   "source": [
    "model.compile(optimizer=tf.keras.optimizers.SGD(momentum=0.9),\n",
    "              loss='mean_squared_error', metrics=[tf.keras.metrics.MeanSquaredError()])"
   ]
  },
  {
   "cell_type": "code",
   "execution_count": 35,
   "metadata": {},
   "outputs": [
    {
     "name": "stdout",
     "output_type": "stream",
     "text": [
      "Train on 6186922 samples, validate on 238172 samples\n",
      "Epoch 1/2\n",
      "6186922/6186922 [==============================] - 755s 122us/sample - loss: 0.8959 - mean_squared_error: 0.8959 - val_loss: 0.9500 - val_mean_squared_error: 0.9500\n",
      "Epoch 2/2\n",
      "6186922/6186922 [==============================] - 796s 129us/sample - loss: 0.8591 - mean_squared_error: 0.8591 - val_loss: 1.0241 - val_mean_squared_error: 1.0241\n",
      "Wall time: 25min 53s\n"
     ]
    },
    {
     "data": {
      "text/plain": [
       "<tensorflow.python.keras.callbacks.History at 0x252ceb52b08>"
      ]
     },
     "execution_count": 35,
     "metadata": {},
     "output_type": "execute_result"
    }
   ],
   "source": [
    "%%time\n",
    "model.fit(X_train.values, Y_train.values, epochs=2, validation_data = (X_valid.values, Y_valid.values))"
   ]
  },
  {
   "cell_type": "code",
   "execution_count": null,
   "metadata": {},
   "outputs": [],
   "source": []
  },
  {
   "cell_type": "code",
   "execution_count": null,
   "metadata": {},
   "outputs": [],
   "source": []
  },
  {
   "cell_type": "code",
   "execution_count": 13,
   "metadata": {},
   "outputs": [],
   "source": [
    "from tensorflow import keras"
   ]
  },
  {
   "cell_type": "code",
   "execution_count": 14,
   "metadata": {},
   "outputs": [],
   "source": [
    "model.save('C:/Users/Dindar/competitive-data-science-predict-future-sales(1)/tables/my_model1.h5')"
   ]
  },
  {
   "cell_type": "code",
   "execution_count": 20,
   "metadata": {},
   "outputs": [
    {
     "name": "stdout",
     "output_type": "stream",
     "text": [
      "WARNING:tensorflow:Sequential models without an `input_shape` passed to the first layer cannot reload their optimizer state. As a result, your model isstarting with a freshly initialized optimizer.\n"
     ]
    }
   ],
   "source": [
    "new_model = keras.models.load_model('C:/Users/Dindar/competitive-data-science-predict-future-sales(1)/tables/my_model.h5')"
   ]
  },
  {
   "cell_type": "code",
   "execution_count": 21,
   "metadata": {},
   "outputs": [
    {
     "name": "stdout",
     "output_type": "stream",
     "text": [
      "Model: \"sequential\"\n",
      "_________________________________________________________________\n",
      "Layer (type)                 Output Shape              Param #   \n",
      "=================================================================\n",
      "batch_normalization (BatchNo multiple                  160       \n",
      "_________________________________________________________________\n",
      "dense (Dense)                multiple                  820       \n",
      "_________________________________________________________________\n",
      "batch_normalization_1 (Batch multiple                  80        \n",
      "_________________________________________________________________\n",
      "dense_1 (Dense)              multiple                  294       \n",
      "_________________________________________________________________\n",
      "batch_normalization_2 (Batch multiple                  56        \n",
      "_________________________________________________________________\n",
      "dense_2 (Dense)              multiple                  15        \n",
      "=================================================================\n",
      "Total params: 1,425\n",
      "Trainable params: 1,277\n",
      "Non-trainable params: 148\n",
      "_________________________________________________________________\n"
     ]
    }
   ],
   "source": [
    "new_model.summary()"
   ]
  },
  {
   "cell_type": "code",
   "execution_count": 22,
   "metadata": {},
   "outputs": [
    {
     "name": "stdout",
     "output_type": "stream",
     "text": [
      "238172/238172 [==============================] - 13s 55us/sample - loss: 0.9308 - mean_squared_error: 0.9308\n"
     ]
    },
    {
     "data": {
      "text/plain": [
       "[0.930824104648379, 0.93082386]"
      ]
     },
     "execution_count": 22,
     "metadata": {},
     "output_type": "execute_result"
    }
   ],
   "source": [
    "new_model.evaluate(X_valid.values, Y_valid.values, verbose=1)"
   ]
  },
  {
   "cell_type": "code",
   "execution_count": 23,
   "metadata": {},
   "outputs": [],
   "source": [
    "y_preds = new_model.predict(X_test)"
   ]
  },
  {
   "cell_type": "code",
   "execution_count": 24,
   "metadata": {},
   "outputs": [
    {
     "data": {
      "text/plain": [
       "array([[0.50138354],\n",
       "       [0.07982135],\n",
       "       [1.3496163 ],\n",
       "       ...,\n",
       "       [0.        ],\n",
       "       [0.        ],\n",
       "       [0.        ]], dtype=float32)"
      ]
     },
     "execution_count": 24,
     "metadata": {},
     "output_type": "execute_result"
    }
   ],
   "source": [
    "y_preds"
   ]
  },
  {
   "cell_type": "code",
   "execution_count": null,
   "metadata": {},
   "outputs": [],
   "source": []
  },
  {
   "cell_type": "code",
   "execution_count": null,
   "metadata": {},
   "outputs": [],
   "source": []
  },
  {
   "cell_type": "code",
   "execution_count": null,
   "metadata": {},
   "outputs": [],
   "source": []
  },
  {
   "cell_type": "code",
   "execution_count": null,
   "metadata": {},
   "outputs": [],
   "source": []
  },
  {
   "cell_type": "code",
   "execution_count": 18,
   "metadata": {},
   "outputs": [
    {
     "name": "stdout",
     "output_type": "stream",
     "text": [
      "Train on 6186922 samples, validate on 238172 samples\n",
      "Epoch 1/2\n",
      "6186922/6186922 [==============================] - 881s 142us/sample - loss: 0.8405 - mean_squared_error: 0.8405 - val_loss: 1.0429 - val_mean_squared_error: 1.0429\n",
      "Epoch 2/2\n",
      "6186922/6186922 [==============================] - 752s 122us/sample - loss: 0.8565 - mean_squared_error: 0.8565 - val_loss: 332023.4133 - val_mean_squared_error: 332022.3125\n",
      "Wall time: 27min 17s\n"
     ]
    },
    {
     "data": {
      "text/plain": [
       "<tensorflow.python.keras.callbacks.History at 0x25114b00a48>"
      ]
     },
     "execution_count": 18,
     "metadata": {},
     "output_type": "execute_result"
    }
   ],
   "source": [
    "%%time\n",
    "new_model.fit(X_train.values, Y_train.values, epochs=2, validation_data = (X_valid.values, Y_valid.values))"
   ]
  },
  {
   "cell_type": "code",
   "execution_count": 19,
   "metadata": {},
   "outputs": [
    {
     "name": "stdout",
     "output_type": "stream",
     "text": [
      "238172/238172 [==============================] - 13s 56us/sample - loss: 332023.4133 - mean_squared_error: 332022.3125\n"
     ]
    },
    {
     "data": {
      "text/plain": [
       "[332023.4132721716, 332022.3]"
      ]
     },
     "execution_count": 19,
     "metadata": {},
     "output_type": "execute_result"
    }
   ],
   "source": [
    "new_model.evaluate(X_valid.values, Y_valid.values, verbose=1)"
   ]
  },
  {
   "cell_type": "code",
   "execution_count": null,
   "metadata": {},
   "outputs": [],
   "source": []
  },
  {
   "cell_type": "code",
   "execution_count": 17,
   "metadata": {},
   "outputs": [
    {
     "data": {
      "text/plain": [
       "(238172, 40)"
      ]
     },
     "execution_count": 17,
     "metadata": {},
     "output_type": "execute_result"
    }
   ],
   "source": [
    "X_valid.shape"
   ]
  },
  {
   "cell_type": "code",
   "execution_count": 7,
   "metadata": {},
   "outputs": [
    {
     "data": {
      "text/plain": [
       "(6186922, 40)"
      ]
     },
     "execution_count": 7,
     "metadata": {},
     "output_type": "execute_result"
    }
   ],
   "source": [
    "X_train.shape"
   ]
  },
  {
   "cell_type": "code",
   "execution_count": null,
   "metadata": {},
   "outputs": [],
   "source": [
    "X_train"
   ]
  },
  {
   "cell_type": "code",
   "execution_count": null,
   "metadata": {},
   "outputs": [],
   "source": []
  },
  {
   "cell_type": "code",
   "execution_count": null,
   "metadata": {},
   "outputs": [],
   "source": []
  },
  {
   "cell_type": "code",
   "execution_count": null,
   "metadata": {},
   "outputs": [],
   "source": []
  },
  {
   "cell_type": "code",
   "execution_count": null,
   "metadata": {},
   "outputs": [],
   "source": []
  },
  {
   "cell_type": "code",
   "execution_count": null,
   "metadata": {},
   "outputs": [],
   "source": []
  },
  {
   "cell_type": "code",
   "execution_count": null,
   "metadata": {},
   "outputs": [],
   "source": []
  },
  {
   "cell_type": "code",
   "execution_count": null,
   "metadata": {},
   "outputs": [],
   "source": []
  },
  {
   "cell_type": "code",
   "execution_count": 6,
   "metadata": {},
   "outputs": [],
   "source": [
    "from sklearn.linear_model import LinearRegression"
   ]
  },
  {
   "cell_type": "code",
   "execution_count": 8,
   "metadata": {},
   "outputs": [
    {
     "name": "stdout",
     "output_type": "stream",
     "text": [
      "Wall time: 15.3 s\n"
     ]
    },
    {
     "data": {
      "text/plain": [
       "LinearRegression(copy_X=True, fit_intercept=True, n_jobs=None, normalize=False)"
      ]
     },
     "execution_count": 8,
     "metadata": {},
     "output_type": "execute_result"
    }
   ],
   "source": [
    "%%time\n",
    "lr = LinearRegression()\n",
    "lr.fit(X_train, Y_train)"
   ]
  },
  {
   "cell_type": "code",
   "execution_count": 10,
   "metadata": {},
   "outputs": [
    {
     "data": {
      "text/plain": [
       "(0.9269372615371291, 0.28191585573364053)"
      ]
     },
     "execution_count": 10,
     "metadata": {},
     "output_type": "execute_result"
    }
   ],
   "source": [
    "Y_pred = lr.predict(X_valid).clip(0, 20)\n",
    "Y_test = lr.predict(X_test).clip(0, 20)\n",
    "mean_squared_error(Y_valid, Y_pred), r2_score(Y_valid, Y_pred)"
   ]
  },
  {
   "cell_type": "code",
   "execution_count": null,
   "metadata": {},
   "outputs": [],
   "source": []
  },
  {
   "cell_type": "code",
   "execution_count": null,
   "metadata": {},
   "outputs": [],
   "source": []
  },
  {
   "cell_type": "code",
   "execution_count": null,
   "metadata": {},
   "outputs": [],
   "source": [
    "test.shape"
   ]
  },
  {
   "cell_type": "code",
   "execution_count": null,
   "metadata": {},
   "outputs": [],
   "source": [
    "train.shape"
   ]
  },
  {
   "cell_type": "code",
   "execution_count": null,
   "metadata": {},
   "outputs": [],
   "source": [
    "train = matrix[:6425094]\n",
    "sub_test = matrix[6425094:]"
   ]
  },
  {
   "cell_type": "code",
   "execution_count": null,
   "metadata": {},
   "outputs": [],
   "source": [
    "train = train[train['date_block_num'] > 11]"
   ]
  },
  {
   "cell_type": "code",
   "execution_count": null,
   "metadata": {},
   "outputs": [],
   "source": []
  },
  {
   "cell_type": "code",
   "execution_count": null,
   "metadata": {},
   "outputs": [],
   "source": [
    "train1 = train[train['date_block_num'] < 33]\n",
    "train1 = train1[train1['date_block_num']!=0]\n",
    "valid = train[train['date_block_num'] >= 33]\n",
    "\n",
    "x_train1 = train1.drop('item_cnt_month',axis=1)\n",
    "y_train1 = train1['item_cnt_month']\n",
    "x_valid = valid.drop('item_cnt_month',axis=1)\n",
    "y_valid = valid['item_cnt_month']"
   ]
  },
  {
   "cell_type": "code",
   "execution_count": null,
   "metadata": {},
   "outputs": [],
   "source": []
  },
  {
   "cell_type": "markdown",
   "metadata": {},
   "source": [
    "# catboost"
   ]
  },
  {
   "cell_type": "code",
   "execution_count": null,
   "metadata": {},
   "outputs": [],
   "source": [
    "from catboost import CatBoostRegressor"
   ]
  },
  {
   "cell_type": "code",
   "execution_count": 8,
   "metadata": {},
   "outputs": [],
   "source": [
    "from sklearn.metrics import r2_score\n",
    "from sklearn.metrics import mean_squared_error"
   ]
  },
  {
   "cell_type": "code",
   "execution_count": null,
   "metadata": {},
   "outputs": [],
   "source": []
  },
  {
   "cell_type": "code",
   "execution_count": null,
   "metadata": {
    "scrolled": true
   },
   "outputs": [],
   "source": [
    "%%time\n",
    "catb = CatBoostRegressor(task_type=\"GPU\",iterations=1500)\n",
    "catb.fit(X_train, Y_train)"
   ]
  },
  {
   "cell_type": "code",
   "execution_count": null,
   "metadata": {},
   "outputs": [],
   "source": [
    "Y_pred = catb.predict(X_valid).clip(0, 20)\n",
    "Y_test = catb.predict(X_test).clip(0, 20)\n",
    "mean_squared_error(Y_valid, Y_pred), r2_score(Y_valid, Y_pred)"
   ]
  },
  {
   "cell_type": "code",
   "execution_count": null,
   "metadata": {},
   "outputs": [],
   "source": []
  },
  {
   "cell_type": "code",
   "execution_count": null,
   "metadata": {},
   "outputs": [],
   "source": []
  },
  {
   "cell_type": "code",
   "execution_count": null,
   "metadata": {},
   "outputs": [],
   "source": [
    "mean_squared_error(y_valid, y_preds), r2_score(y_valid, y_preds)"
   ]
  },
  {
   "cell_type": "code",
   "execution_count": null,
   "metadata": {},
   "outputs": [],
   "source": [
    "mean_squared_error(y_valid, y_preds), r2_score(y_valid, y_preds)"
   ]
  },
  {
   "cell_type": "code",
   "execution_count": null,
   "metadata": {},
   "outputs": [],
   "source": []
  },
  {
   "cell_type": "code",
   "execution_count": null,
   "metadata": {},
   "outputs": [],
   "source": []
  },
  {
   "cell_type": "code",
   "execution_count": null,
   "metadata": {},
   "outputs": [],
   "source": [
    "plt.figure(figsize=(20, 6))\n",
    "sns.scatterplot(x_valid.columns, catb.feature_importances_)"
   ]
  },
  {
   "cell_type": "code",
   "execution_count": null,
   "metadata": {
    "scrolled": false
   },
   "outputs": [],
   "source": [
    "catb.calc_feature_statistics(x_train1,y_train1,feature=8, plot=True);"
   ]
  },
  {
   "cell_type": "code",
   "execution_count": null,
   "metadata": {},
   "outputs": [],
   "source": [
    "data_encoded.columns"
   ]
  },
  {
   "cell_type": "code",
   "execution_count": null,
   "metadata": {},
   "outputs": [],
   "source": []
  },
  {
   "cell_type": "markdown",
   "metadata": {},
   "source": [
    "# RandomForestRegressor"
   ]
  },
  {
   "cell_type": "code",
   "execution_count": null,
   "metadata": {},
   "outputs": [],
   "source": [
    "from sklearn.ensemble import RandomForestRegressor"
   ]
  },
  {
   "cell_type": "code",
   "execution_count": null,
   "metadata": {},
   "outputs": [],
   "source": [
    "%%time\n",
    "rf = RandomForestRegressor()\n",
    "rf.fit(X_train, Y_train)"
   ]
  },
  {
   "cell_type": "code",
   "execution_count": null,
   "metadata": {},
   "outputs": [],
   "source": [
    "Y_pred = model.predict(X_valid).clip(0, 20)\n",
    "Y_test = model.predict(X_test).clip(0, 20)\n",
    "mean_squared_error(Y_valid, Y_pred), r2_score(Y_valid, Y_pred)"
   ]
  },
  {
   "cell_type": "code",
   "execution_count": null,
   "metadata": {},
   "outputs": [],
   "source": []
  },
  {
   "cell_type": "code",
   "execution_count": null,
   "metadata": {},
   "outputs": [],
   "source": []
  },
  {
   "cell_type": "code",
   "execution_count": null,
   "metadata": {},
   "outputs": [],
   "source": []
  },
  {
   "cell_type": "markdown",
   "metadata": {},
   "source": [
    "# LGBM"
   ]
  },
  {
   "cell_type": "code",
   "execution_count": 9,
   "metadata": {},
   "outputs": [],
   "source": [
    "from lightgbm import LGBMRegressor"
   ]
  },
  {
   "cell_type": "code",
   "execution_count": 10,
   "metadata": {},
   "outputs": [
    {
     "name": "stdout",
     "output_type": "stream",
     "text": [
      "Wall time: 22min 16s\n"
     ]
    },
    {
     "data": {
      "text/plain": [
       "LGBMRegressor(bagging_fraction=1.0, boosting_type='gbdt', class_weight=None,\n",
       "              colsample_bytree=1.0, feature_fraction=0.2,\n",
       "              importance_type='split', learning_rate=0.01, max_depth=11,\n",
       "              min_child_samples=20, min_child_weight=0.001,\n",
       "              min_data_in_leaf=111, min_split_gain=0.0, n_estimators=10000,\n",
       "              n_jobs=-1, num_leaves=31, objective=None, random_state=None,\n",
       "              reg_alpha=0.0, reg_lambda=0.0, silent=True, subsample=1.0,\n",
       "              subsample_for_bin=200000, subsample_freq=0)"
      ]
     },
     "execution_count": 10,
     "metadata": {},
     "output_type": "execute_result"
    }
   ],
   "source": [
    "%%time\n",
    "lgbm = LGBMRegressor(num_leaves=31,max_depth=11,bagging_fraction=1.0,feature_fraction = 0.2,\n",
    "                         min_data_in_leaf=111,learning_rate=0.01,n_estimators=10000)\n",
    "lgbm.fit(X_train, Y_train)"
   ]
  },
  {
   "cell_type": "code",
   "execution_count": 11,
   "metadata": {},
   "outputs": [
    {
     "data": {
      "text/plain": [
       "(0.8141019229084108, 0.3693276698275576)"
      ]
     },
     "execution_count": 11,
     "metadata": {},
     "output_type": "execute_result"
    }
   ],
   "source": [
    "Y_pred = lgbm.predict(X_valid).clip(0, 20)\n",
    "Y_test = lgbm.predict(X_test).clip(0, 20)\n",
    "mean_squared_error(Y_valid, Y_pred), r2_score(Y_valid, Y_pred)"
   ]
  },
  {
   "cell_type": "code",
   "execution_count": 12,
   "metadata": {},
   "outputs": [
    {
     "data": {
      "text/plain": [
       "(0.8182790056779007, 0.36609174758068963)"
      ]
     },
     "execution_count": 12,
     "metadata": {},
     "output_type": "execute_result"
    }
   ],
   "source": [
    "Y_pred = lgbm.predict(X_valid).clip(0, 20)\n",
    "Y_test = lgbm.predict(X_test).clip(0, 20)\n",
    "mean_squared_error(Y_valid, Y_pred), r2_score(Y_valid, Y_pred)"
   ]
  },
  {
   "cell_type": "code",
   "execution_count": 37,
   "metadata": {},
   "outputs": [
    {
     "data": {
      "text/plain": [
       "(0.8179867446897431, 0.3663181577060476)"
      ]
     },
     "execution_count": 37,
     "metadata": {},
     "output_type": "execute_result"
    }
   ],
   "source": [
    "Y_pred = lgbm.predict(X_valid).clip(0, 20)\n",
    "Y_test = lgbm.predict(X_test).clip(0, 20)\n",
    "mean_squared_error(Y_valid, Y_pred), r2_score(Y_valid, Y_pred)"
   ]
  },
  {
   "cell_type": "code",
   "execution_count": 25,
   "metadata": {},
   "outputs": [
    {
     "data": {
      "text/plain": [
       "(214200,)"
      ]
     },
     "execution_count": 25,
     "metadata": {},
     "output_type": "execute_result"
    }
   ],
   "source": [
    "Y_test.shape"
   ]
  },
  {
   "cell_type": "code",
   "execution_count": null,
   "metadata": {},
   "outputs": [],
   "source": []
  },
  {
   "cell_type": "code",
   "execution_count": 20,
   "metadata": {},
   "outputs": [],
   "source": [
    "dep = list(range(4,20))"
   ]
  },
  {
   "cell_type": "code",
   "execution_count": 21,
   "metadata": {
    "scrolled": true
   },
   "outputs": [
    {
     "name": "stdout",
     "output_type": "stream",
     "text": [
      "0.7251109242122196\n",
      "0.8542266104874695\n",
      "\n",
      "0.6922023102686249\n",
      "0.8412891201504366\n",
      "\n",
      "0.6755363963908131\n",
      "0.8433372001115922\n",
      "\n",
      "0.6680895410124554\n",
      "0.8474833982953026\n",
      "\n",
      "0.6571718769954373\n",
      "0.8357554553442659\n",
      "\n",
      "0.653429462052668\n",
      "0.8479415933110179\n",
      "\n",
      "0.6484304845484267\n",
      "0.8416577445934876\n",
      "\n",
      "0.6482558015069713\n",
      "0.8348485625078017\n",
      "\n",
      "0.6452298586120755\n",
      "0.8484113559346343\n",
      "\n",
      "0.6458650704278588\n",
      "0.8503182509085405\n",
      "\n",
      "0.6465800818492479\n",
      "0.8454113063431988\n",
      "\n",
      "0.6438330194800685\n",
      "0.8390248820642496\n",
      "\n",
      "0.6438330194800685\n",
      "0.8390248820642496\n",
      "\n",
      "0.6438330194800685\n",
      "0.8390248820642496\n",
      "\n",
      "0.6438330194800685\n",
      "0.8390248820642496\n",
      "\n"
     ]
    },
    {
     "ename": "KeyboardInterrupt",
     "evalue": "",
     "output_type": "error",
     "traceback": [
      "\u001b[1;31m---------------------------------------------------------------------------\u001b[0m",
      "\u001b[1;31mKeyboardInterrupt\u001b[0m                         Traceback (most recent call last)",
      "\u001b[1;32m<ipython-input-21-7fab16b7bead>\u001b[0m in \u001b[0;36m<module>\u001b[1;34m\u001b[0m\n\u001b[0;32m      3\u001b[0m \u001b[1;32mfor\u001b[0m \u001b[0mi\u001b[0m \u001b[1;32min\u001b[0m \u001b[0mdep\u001b[0m\u001b[1;33m:\u001b[0m\u001b[1;33m\u001b[0m\u001b[1;33m\u001b[0m\u001b[0m\n\u001b[0;32m      4\u001b[0m     \u001b[0mlgbm\u001b[0m \u001b[1;33m=\u001b[0m \u001b[0mLGBMRegressor\u001b[0m\u001b[1;33m(\u001b[0m\u001b[0mmax_depth\u001b[0m\u001b[1;33m=\u001b[0m\u001b[0mi\u001b[0m\u001b[1;33m)\u001b[0m\u001b[1;33m\u001b[0m\u001b[1;33m\u001b[0m\u001b[0m\n\u001b[1;32m----> 5\u001b[1;33m     \u001b[0mlgbm\u001b[0m\u001b[1;33m.\u001b[0m\u001b[0mfit\u001b[0m\u001b[1;33m(\u001b[0m\u001b[0mX_train\u001b[0m\u001b[1;33m,\u001b[0m \u001b[0mY_train\u001b[0m\u001b[1;33m)\u001b[0m\u001b[1;33m\u001b[0m\u001b[1;33m\u001b[0m\u001b[0m\n\u001b[0m\u001b[0;32m      6\u001b[0m     \u001b[0mY_pred\u001b[0m \u001b[1;33m=\u001b[0m \u001b[0mlgbm\u001b[0m\u001b[1;33m.\u001b[0m\u001b[0mpredict\u001b[0m\u001b[1;33m(\u001b[0m\u001b[0mX_valid\u001b[0m\u001b[1;33m)\u001b[0m\u001b[1;33m.\u001b[0m\u001b[0mclip\u001b[0m\u001b[1;33m(\u001b[0m\u001b[1;36m0\u001b[0m\u001b[1;33m,\u001b[0m \u001b[1;36m20\u001b[0m\u001b[1;33m)\u001b[0m\u001b[1;33m\u001b[0m\u001b[1;33m\u001b[0m\u001b[0m\n\u001b[0;32m      7\u001b[0m     \u001b[0mY_test\u001b[0m \u001b[1;33m=\u001b[0m \u001b[0mlgbm\u001b[0m\u001b[1;33m.\u001b[0m\u001b[0mpredict\u001b[0m\u001b[1;33m(\u001b[0m\u001b[0mX_train\u001b[0m\u001b[1;33m)\u001b[0m\u001b[1;33m.\u001b[0m\u001b[0mclip\u001b[0m\u001b[1;33m(\u001b[0m\u001b[1;36m0\u001b[0m\u001b[1;33m,\u001b[0m \u001b[1;36m20\u001b[0m\u001b[1;33m)\u001b[0m\u001b[1;33m\u001b[0m\u001b[1;33m\u001b[0m\u001b[0m\n",
      "\u001b[1;32m~\\anaconda3\\lib\\site-packages\\lightgbm\\sklearn.py\u001b[0m in \u001b[0;36mfit\u001b[1;34m(self, X, y, sample_weight, init_score, eval_set, eval_names, eval_sample_weight, eval_init_score, eval_metric, early_stopping_rounds, verbose, feature_name, categorical_feature, callbacks)\u001b[0m\n\u001b[0;32m    741\u001b[0m                                        \u001b[0mverbose\u001b[0m\u001b[1;33m=\u001b[0m\u001b[0mverbose\u001b[0m\u001b[1;33m,\u001b[0m \u001b[0mfeature_name\u001b[0m\u001b[1;33m=\u001b[0m\u001b[0mfeature_name\u001b[0m\u001b[1;33m,\u001b[0m\u001b[1;33m\u001b[0m\u001b[1;33m\u001b[0m\u001b[0m\n\u001b[0;32m    742\u001b[0m                                        \u001b[0mcategorical_feature\u001b[0m\u001b[1;33m=\u001b[0m\u001b[0mcategorical_feature\u001b[0m\u001b[1;33m,\u001b[0m\u001b[1;33m\u001b[0m\u001b[1;33m\u001b[0m\u001b[0m\n\u001b[1;32m--> 743\u001b[1;33m                                        callbacks=callbacks)\n\u001b[0m\u001b[0;32m    744\u001b[0m         \u001b[1;32mreturn\u001b[0m \u001b[0mself\u001b[0m\u001b[1;33m\u001b[0m\u001b[1;33m\u001b[0m\u001b[0m\n\u001b[0;32m    745\u001b[0m \u001b[1;33m\u001b[0m\u001b[0m\n",
      "\u001b[1;32m~\\anaconda3\\lib\\site-packages\\lightgbm\\sklearn.py\u001b[0m in \u001b[0;36mfit\u001b[1;34m(self, X, y, sample_weight, init_score, group, eval_set, eval_names, eval_sample_weight, eval_class_weight, eval_init_score, eval_group, eval_metric, early_stopping_rounds, verbose, feature_name, categorical_feature, callbacks)\u001b[0m\n\u001b[0;32m    598\u001b[0m                               \u001b[0mverbose_eval\u001b[0m\u001b[1;33m=\u001b[0m\u001b[0mverbose\u001b[0m\u001b[1;33m,\u001b[0m \u001b[0mfeature_name\u001b[0m\u001b[1;33m=\u001b[0m\u001b[0mfeature_name\u001b[0m\u001b[1;33m,\u001b[0m\u001b[1;33m\u001b[0m\u001b[1;33m\u001b[0m\u001b[0m\n\u001b[0;32m    599\u001b[0m                               \u001b[0mcategorical_feature\u001b[0m\u001b[1;33m=\u001b[0m\u001b[0mcategorical_feature\u001b[0m\u001b[1;33m,\u001b[0m\u001b[1;33m\u001b[0m\u001b[1;33m\u001b[0m\u001b[0m\n\u001b[1;32m--> 600\u001b[1;33m                               callbacks=callbacks)\n\u001b[0m\u001b[0;32m    601\u001b[0m \u001b[1;33m\u001b[0m\u001b[0m\n\u001b[0;32m    602\u001b[0m         \u001b[1;32mif\u001b[0m \u001b[0mevals_result\u001b[0m\u001b[1;33m:\u001b[0m\u001b[1;33m\u001b[0m\u001b[1;33m\u001b[0m\u001b[0m\n",
      "\u001b[1;32m~\\anaconda3\\lib\\site-packages\\lightgbm\\engine.py\u001b[0m in \u001b[0;36mtrain\u001b[1;34m(params, train_set, num_boost_round, valid_sets, valid_names, fobj, feval, init_model, feature_name, categorical_feature, early_stopping_rounds, evals_result, verbose_eval, learning_rates, keep_training_booster, callbacks)\u001b[0m\n\u001b[0;32m    247\u001b[0m                                     evaluation_result_list=None))\n\u001b[0;32m    248\u001b[0m \u001b[1;33m\u001b[0m\u001b[0m\n\u001b[1;32m--> 249\u001b[1;33m         \u001b[0mbooster\u001b[0m\u001b[1;33m.\u001b[0m\u001b[0mupdate\u001b[0m\u001b[1;33m(\u001b[0m\u001b[0mfobj\u001b[0m\u001b[1;33m=\u001b[0m\u001b[0mfobj\u001b[0m\u001b[1;33m)\u001b[0m\u001b[1;33m\u001b[0m\u001b[1;33m\u001b[0m\u001b[0m\n\u001b[0m\u001b[0;32m    250\u001b[0m \u001b[1;33m\u001b[0m\u001b[0m\n\u001b[0;32m    251\u001b[0m         \u001b[0mevaluation_result_list\u001b[0m \u001b[1;33m=\u001b[0m \u001b[1;33m[\u001b[0m\u001b[1;33m]\u001b[0m\u001b[1;33m\u001b[0m\u001b[1;33m\u001b[0m\u001b[0m\n",
      "\u001b[1;32m~\\anaconda3\\lib\\site-packages\\lightgbm\\basic.py\u001b[0m in \u001b[0;36mupdate\u001b[1;34m(self, train_set, fobj)\u001b[0m\n\u001b[0;32m   1974\u001b[0m             _safe_call(_LIB.LGBM_BoosterUpdateOneIter(\n\u001b[0;32m   1975\u001b[0m                 \u001b[0mself\u001b[0m\u001b[1;33m.\u001b[0m\u001b[0mhandle\u001b[0m\u001b[1;33m,\u001b[0m\u001b[1;33m\u001b[0m\u001b[1;33m\u001b[0m\u001b[0m\n\u001b[1;32m-> 1976\u001b[1;33m                 ctypes.byref(is_finished)))\n\u001b[0m\u001b[0;32m   1977\u001b[0m             \u001b[0mself\u001b[0m\u001b[1;33m.\u001b[0m\u001b[0m__is_predicted_cur_iter\u001b[0m \u001b[1;33m=\u001b[0m \u001b[1;33m[\u001b[0m\u001b[1;32mFalse\u001b[0m \u001b[1;32mfor\u001b[0m \u001b[0m_\u001b[0m \u001b[1;32min\u001b[0m \u001b[0mrange_\u001b[0m\u001b[1;33m(\u001b[0m\u001b[0mself\u001b[0m\u001b[1;33m.\u001b[0m\u001b[0m__num_dataset\u001b[0m\u001b[1;33m)\u001b[0m\u001b[1;33m]\u001b[0m\u001b[1;33m\u001b[0m\u001b[1;33m\u001b[0m\u001b[0m\n\u001b[0;32m   1978\u001b[0m             \u001b[1;32mreturn\u001b[0m \u001b[0mis_finished\u001b[0m\u001b[1;33m.\u001b[0m\u001b[0mvalue\u001b[0m \u001b[1;33m==\u001b[0m \u001b[1;36m1\u001b[0m\u001b[1;33m\u001b[0m\u001b[1;33m\u001b[0m\u001b[0m\n",
      "\u001b[1;31mKeyboardInterrupt\u001b[0m: "
     ]
    }
   ],
   "source": [
    "train_sc = []\n",
    "val_sc = []\n",
    "for i in dep:\n",
    "    lgbm = LGBMRegressor(max_depth=i)\n",
    "    lgbm.fit(X_train, Y_train)\n",
    "    Y_pred = lgbm.predict(X_valid).clip(0, 20)\n",
    "    Y_test = lgbm.predict(X_train).clip(0, 20)\n",
    "    a,b = mean_squared_error(Y_train, Y_test),mean_squared_error(Y_valid, Y_pred)\n",
    "    train_sc.append(mean_squared_error(Y_train, Y_test))\n",
    "    val_sc.append(mean_squared_error(Y_valid, Y_pred))\n",
    "    print(a)\n",
    "    print(b)\n",
    "    print()"
   ]
  },
  {
   "cell_type": "code",
   "execution_count": 28,
   "metadata": {},
   "outputs": [
    {
     "data": {
      "text/plain": [
       "<matplotlib.axes._subplots.AxesSubplot at 0x23e6d238c48>"
      ]
     },
     "execution_count": 28,
     "metadata": {},
     "output_type": "execute_result"
    },
    {
     "data": {
      "image/png": "[encoded data removed]",
      "text/plain": [
       "<Figure size 432x288 with 1 Axes>"
      ]
     },
     "metadata": {
      "needs_background": "light"
     },
     "output_type": "display_data"
    }
   ],
   "source": [
    "sns.lineplot(dep[:15],train_sc)\n",
    "sns.lineplot(dep[:15],val_sc)"
   ]
  },
  {
   "cell_type": "code",
   "execution_count": 35,
   "metadata": {},
   "outputs": [],
   "source": [
    "num_leaves = list(range(25,40))"
   ]
  },
  {
   "cell_type": "code",
   "execution_count": 32,
   "metadata": {},
   "outputs": [],
   "source": [
    "num_leaves1 = list(range(25,30))"
   ]
  },
  {
   "cell_type": "code",
   "execution_count": 33,
   "metadata": {
    "collapsed": true
   },
   "outputs": [
    {
     "name": "stdout",
     "output_type": "stream",
     "text": [
      "25 : 0.6623182325930771\n",
      "25 : 0.834835736528779\n",
      "\n",
      "26 : 0.659367380873347\n",
      "26 : 0.8529838455511514\n",
      "\n",
      "27 : 0.651336776140505\n",
      "27 : 0.8611762078589583\n",
      "\n",
      "28 : 0.6516007771198215\n",
      "28 : 0.8560088428740386\n",
      "\n",
      "29 : 0.6492338470001894\n",
      "29 : 0.838196570508212\n",
      "\n",
      "Wall time: 5min 3s\n"
     ]
    }
   ],
   "source": [
    "%%time\n",
    "train_sc1 = []\n",
    "val_sc1 = []\n",
    "for i in num_leaves1:\n",
    "    lgbm = LGBMRegressor(num_leaves=i,max_depth=11)\n",
    "    lgbm.fit(X_train, Y_train)\n",
    "    Y_pred = lgbm.predict(X_valid).clip(0, 20)\n",
    "    Y_test = lgbm.predict(X_train).clip(0, 20)\n",
    "    a,b = mean_squared_error(Y_train, Y_test),mean_squared_error(Y_valid, Y_pred)\n",
    "    train_sc1.append(mean_squared_error(Y_train, Y_test))\n",
    "    val_sc1.append(mean_squared_error(Y_valid, Y_pred))\n",
    "    print(str(i) + ' : ' + str(a))\n",
    "    print(str(i) + ' : ' + str(b))\n",
    "    print()"
   ]
  },
  {
   "cell_type": "code",
   "execution_count": 36,
   "metadata": {},
   "outputs": [
    {
     "name": "stdout",
     "output_type": "stream",
     "text": [
      "25 : 0.661168697028784\n",
      "25 : 0.8429412832291012\n",
      "\n",
      "26 : 0.6590835710654627\n",
      "26 : 0.8607339442806453\n",
      "\n",
      "27 : 0.6555625549160161\n",
      "27 : 0.846139517781213\n",
      "\n",
      "28 : 0.651431003824746\n",
      "28 : 0.8551250503310523\n",
      "\n",
      "29 : 0.650213264317865\n",
      "29 : 0.8387331482970567\n",
      "\n",
      "30 : 0.6507498697293739\n",
      "30 : 0.8394930240288045\n",
      "\n",
      "31 : 0.6482558015069713\n",
      "31 : 0.8348485625078017\n",
      "\n",
      "32 : 0.6467870027951446\n",
      "32 : 0.8579463217736749\n",
      "\n",
      "33 : 0.6420958650270107\n",
      "33 : 0.8500072406908441\n",
      "\n",
      "34 : 0.6422412362912197\n",
      "34 : 0.8529285481385217\n",
      "\n",
      "35 : 0.639122172473904\n",
      "35 : 0.8379577193482071\n",
      "\n",
      "36 : 0.638558972521763\n",
      "36 : 0.8480118348985286\n",
      "\n",
      "37 : 0.6374813980655496\n",
      "37 : 0.8378798101288332\n",
      "\n",
      "38 : 0.631425574031043\n",
      "38 : 0.8604090149597619\n",
      "\n",
      "39 : 0.6325942224812746\n",
      "39 : 0.8414913292112833\n",
      "\n"
     ]
    }
   ],
   "source": [
    "train_sc1 = []\n",
    "val_sc1 = []\n",
    "for i in num_leaves:\n",
    "    lgbm = LGBMRegressor(num_leaves=i,max_depth=11)\n",
    "    lgbm.fit(X_train, Y_train)\n",
    "    Y_pred = lgbm.predict(X_valid).clip(0, 20)\n",
    "    Y_test = lgbm.predict(X_train).clip(0, 20)\n",
    "    a,b = mean_squared_error(Y_train, Y_test),mean_squared_error(Y_valid, Y_pred)\n",
    "    train_sc.append(mean_squared_error(Y_train, Y_test))\n",
    "    val_sc.append(mean_squared_error(Y_valid, Y_pred))\n",
    "    print(str(i) + ' : ' + str(a))\n",
    "    print(str(i) + ' : ' + str(b))\n",
    "    print()"
   ]
  },
  {
   "cell_type": "code",
   "execution_count": 43,
   "metadata": {},
   "outputs": [
    {
     "data": {
      "text/plain": [
       "<matplotlib.axes._subplots.AxesSubplot at 0x23e818275c8>"
      ]
     },
     "execution_count": 43,
     "metadata": {},
     "output_type": "execute_result"
    },
    {
     "data": {
      "image/png": "[encoded data removed]",
      "text/plain": [
       "<Figure size 432x288 with 1 Axes>"
      ]
     },
     "metadata": {
      "needs_background": "light"
     },
     "output_type": "display_data"
    }
   ],
   "source": [
    "sns.lineplot(num_leaves,train_sc[-15:])\n",
    "sns.lineplot(num_leaves,val_sc[-15:])"
   ]
  },
  {
   "cell_type": "code",
   "execution_count": 42,
   "metadata": {},
   "outputs": [
    {
     "data": {
      "text/plain": [
       "15"
      ]
     },
     "execution_count": 42,
     "metadata": {},
     "output_type": "execute_result"
    }
   ],
   "source": [
    "len(train_sc[-15:])"
   ]
  },
  {
   "cell_type": "code",
   "execution_count": null,
   "metadata": {},
   "outputs": [],
   "source": [
    "31"
   ]
  },
  {
   "cell_type": "code",
   "execution_count": 6,
   "metadata": {},
   "outputs": [],
   "source": [
    "fraction = [0.2,0.3,0.4,0.5,0.6,0.7,0.8,0.85,0.9,0.95,1.0]"
   ]
  },
  {
   "cell_type": "code",
   "execution_count": 9,
   "metadata": {},
   "outputs": [
    {
     "name": "stdout",
     "output_type": "stream",
     "text": [
      "0.2 : 0.6482558015069713\n",
      "0.2 : 0.8348485625078017\n",
      "\n",
      "0.3 : 0.6482558015069713\n",
      "0.3 : 0.8348485625078017\n",
      "\n",
      "0.4 : 0.6482558015069713\n",
      "0.4 : 0.8348485625078017\n",
      "\n",
      "0.5 : 0.6482558015069713\n",
      "0.5 : 0.8348485625078017\n",
      "\n",
      "0.6 : 0.6482558015069713\n",
      "0.6 : 0.8348485625078017\n",
      "\n",
      "0.7 : 0.6482558015069713\n",
      "0.7 : 0.8348485625078017\n",
      "\n",
      "0.8 : 0.6482558015069713\n",
      "0.8 : 0.8348485625078017\n",
      "\n",
      "0.85 : 0.6482558015069713\n",
      "0.85 : 0.8348485625078017\n",
      "\n",
      "0.9 : 0.6482558015069713\n",
      "0.9 : 0.8348485625078017\n",
      "\n",
      "0.95 : 0.6482558015069713\n",
      "0.95 : 0.8348485625078017\n",
      "\n",
      "1.0 : 0.6482558015069713\n",
      "1.0 : 0.8348485625078017\n",
      "\n"
     ]
    }
   ],
   "source": [
    "train_sc2 = []\n",
    "val_sc2 = []\n",
    "for i in fraction:\n",
    "    lgbm = LGBMRegressor(num_leaves=31,max_depth=11,bagging_fraction=i)\n",
    "    lgbm.fit(X_train, Y_train)\n",
    "    Y_pred = lgbm.predict(X_valid).clip(0, 20)\n",
    "    Y_test = lgbm.predict(X_train).clip(0, 20)\n",
    "    a,b = mean_squared_error(Y_train, Y_test),mean_squared_error(Y_valid, Y_pred)\n",
    "    train_sc2.append(mean_squared_error(Y_train, Y_test))\n",
    "    val_sc2.append(mean_squared_error(Y_valid, Y_pred))\n",
    "    print(str(i) + ' : ' + str(a))\n",
    "    print(str(i) + ' : ' + str(b))\n",
    "    print()"
   ]
  },
  {
   "cell_type": "code",
   "execution_count": 10,
   "metadata": {},
   "outputs": [
    {
     "data": {
      "text/plain": [
       "<matplotlib.axes._subplots.AxesSubplot at 0x1847eb45988>"
      ]
     },
     "execution_count": 10,
     "metadata": {},
     "output_type": "execute_result"
    },
    {
     "data": {
      "image/png": "[encoded data removed]",
      "text/plain": [
       "<Figure size 432x288 with 1 Axes>"
      ]
     },
     "metadata": {
      "needs_background": "light"
     },
     "output_type": "display_data"
    }
   ],
   "source": [
    "sns.lineplot(fraction,train_sc2)\n",
    "sns.lineplot(fraction,val_sc2)"
   ]
  },
  {
   "cell_type": "code",
   "execution_count": null,
   "metadata": {},
   "outputs": [],
   "source": []
  },
  {
   "cell_type": "code",
   "execution_count": 11,
   "metadata": {},
   "outputs": [],
   "source": [
    "feature = [0.2,0.3,0.4,0.5,0.6,0.7,0.8,0.85,0.9,0.95,1.0]"
   ]
  },
  {
   "cell_type": "code",
   "execution_count": 12,
   "metadata": {},
   "outputs": [
    {
     "name": "stdout",
     "output_type": "stream",
     "text": [
      "0.2 : 0.6857734811658501\n",
      "0.2 : 0.8289962255329273\n",
      "\n",
      "0.3 : 0.6771581327361674\n",
      "0.3 : 0.8418681096490674\n",
      "\n",
      "0.4 : 0.6627947206842487\n",
      "0.4 : 0.8463666365718631\n",
      "\n",
      "0.5 : 0.6551713491936388\n",
      "0.5 : 0.837300749931969\n",
      "\n",
      "0.6 : 0.6511601064758343\n",
      "0.6 : 0.8334964585358493\n",
      "\n",
      "0.7 : 0.6466473865124256\n",
      "0.7 : 0.8454677698097516\n",
      "\n",
      "0.8 : 0.6516729142306086\n",
      "0.8 : 0.8527825479236064\n",
      "\n",
      "0.85 : 0.645885873496193\n",
      "0.85 : 0.8574208397807154\n",
      "\n",
      "0.9 : 0.6519069085883735\n",
      "0.9 : 0.8525839372028889\n",
      "\n",
      "0.95 : 0.6510389349090433\n",
      "0.95 : 0.8537147923044115\n",
      "\n",
      "1.0 : 0.6482558015069713\n",
      "1.0 : 0.8348485625078017\n",
      "\n",
      "Wall time: 11min 45s\n"
     ]
    }
   ],
   "source": [
    "%%time\n",
    "train_sc3 = []\n",
    "val_sc3 = []\n",
    "for i in feature:\n",
    "    lgbm = LGBMRegressor(num_leaves=31,max_depth=11,bagging_fraction=1.0,feature_fraction = i)\n",
    "    lgbm.fit(X_train, Y_train)\n",
    "    Y_pred = lgbm.predict(X_valid).clip(0, 20)\n",
    "    Y_test = lgbm.predict(X_train).clip(0, 20)\n",
    "    a,b = mean_squared_error(Y_train, Y_test),mean_squared_error(Y_valid, Y_pred)\n",
    "    train_sc3.append(mean_squared_error(Y_train, Y_test))\n",
    "    val_sc3.append(mean_squared_error(Y_valid, Y_pred))\n",
    "    print(str(i) + ' : ' + str(a))\n",
    "    print(str(i) + ' : ' + str(b))\n",
    "    print()"
   ]
  },
  {
   "cell_type": "code",
   "execution_count": 13,
   "metadata": {},
   "outputs": [
    {
     "data": {
      "text/plain": [
       "<matplotlib.axes._subplots.AxesSubplot at 0x184013bb948>"
      ]
     },
     "execution_count": 13,
     "metadata": {},
     "output_type": "execute_result"
    },
    {
     "data": {
      "image/png": "[encoded data removed]",
      "text/plain": [
       "<Figure size 432x288 with 1 Axes>"
      ]
     },
     "metadata": {
      "needs_background": "light"
     },
     "output_type": "display_data"
    }
   ],
   "source": [
    "sns.lineplot(feature,train_sc3)\n",
    "sns.lineplot(feature,val_sc3)"
   ]
  },
  {
   "cell_type": "code",
   "execution_count": null,
   "metadata": {},
   "outputs": [],
   "source": []
  },
  {
   "cell_type": "code",
   "execution_count": 18,
   "metadata": {},
   "outputs": [],
   "source": [
    "min_data = [107,108,109,110,111,112,115,120]"
   ]
  },
  {
   "cell_type": "code",
   "execution_count": 19,
   "metadata": {},
   "outputs": [
    {
     "name": "stdout",
     "output_type": "stream",
     "text": [
      "107 : 0.688204569138553\n",
      "107 : 0.8246560938136606\n",
      "\n",
      "108 : 0.6882817029465795\n",
      "108 : 0.8235309555383021\n",
      "\n",
      "109 : 0.6883017691449279\n",
      "109 : 0.8239779083591735\n",
      "\n",
      "110 : 0.6871461408257731\n",
      "110 : 0.8229183737472467\n",
      "\n",
      "111 : 0.6870224582609399\n",
      "111 : 0.8201552589197719\n",
      "\n",
      "112 : 0.6870981012460968\n",
      "112 : 0.8205933470618513\n",
      "\n",
      "115 : 0.6869224271212503\n",
      "115 : 0.8220798303584822\n",
      "\n",
      "120 : 0.6879312246268227\n",
      "120 : 0.826340213507575\n",
      "\n",
      "Wall time: 4min 55s\n"
     ]
    }
   ],
   "source": [
    "%%time\n",
    "train_sc4 = []\n",
    "val_sc4 = []\n",
    "for i in min_data:\n",
    "    lgbm = LGBMRegressor(num_leaves=31,max_depth=11,bagging_fraction=1.0,feature_fraction = 0.2, min_data_in_leaf=i)\n",
    "    lgbm.fit(X_train, Y_train)\n",
    "    Y_pred = lgbm.predict(X_valid).clip(0, 20)\n",
    "    Y_test = lgbm.predict(X_train).clip(0, 20)\n",
    "    a,b = mean_squared_error(Y_train, Y_test),mean_squared_error(Y_valid, Y_pred)\n",
    "    train_sc4.append(mean_squared_error(Y_train, Y_test))\n",
    "    val_sc4.append(mean_squared_error(Y_valid, Y_pred))\n",
    "    print(str(i) + ' : ' + str(a))\n",
    "    print(str(i) + ' : ' + str(b))\n",
    "    print()"
   ]
  },
  {
   "cell_type": "code",
   "execution_count": 20,
   "metadata": {},
   "outputs": [
    {
     "data": {
      "text/plain": [
       "<matplotlib.axes._subplots.AxesSubplot at 0x27d79f35388>"
      ]
     },
     "execution_count": 20,
     "metadata": {},
     "output_type": "execute_result"
    },
    {
     "data": {
      "image/png": "[encoded data removed]",
      "text/plain": [
       "<Figure size 432x288 with 1 Axes>"
      ]
     },
     "metadata": {
      "needs_background": "light"
     },
     "output_type": "display_data"
    }
   ],
   "source": [
    "sns.lineplot(min_data,train_sc4)\n",
    "sns.lineplot(min_data,val_sc4)"
   ]
  },
  {
   "cell_type": "code",
   "execution_count": 21,
   "metadata": {},
   "outputs": [
    {
     "data": {
      "text/plain": [
       "0.8201552589197719"
      ]
     },
     "execution_count": 21,
     "metadata": {},
     "output_type": "execute_result"
    }
   ],
   "source": [
    "min(val_sc4)"
   ]
  },
  {
   "cell_type": "code",
   "execution_count": null,
   "metadata": {},
   "outputs": [],
   "source": []
  },
  {
   "cell_type": "code",
   "execution_count": 5,
   "metadata": {},
   "outputs": [],
   "source": [
    "n = [2000, 2500, 3000, 5000]"
   ]
  },
  {
   "cell_type": "code",
   "execution_count": 9,
   "metadata": {},
   "outputs": [
    {
     "name": "stdout",
     "output_type": "stream",
     "text": [
      "2000 : 0.6471991048801466\n",
      "2000 : 0.8279324757643683\n",
      "\n",
      "2500 : 0.635865643159404\n",
      "2500 : 0.8269333891457628\n",
      "\n",
      "3000 : 0.6270740439853721\n",
      "3000 : 0.8262798072478347\n",
      "\n",
      "5000 : 0.6006070930193464\n",
      "5000 : 0.8254119891590387\n",
      "\n",
      "Wall time: 50min 49s\n"
     ]
    }
   ],
   "source": [
    "%%time\n",
    "train_sc5 = []\n",
    "val_sc5 = []\n",
    "for i in n:\n",
    "    lgbm = LGBMRegressor(num_leaves=31,max_depth=11,bagging_fraction=1.0,feature_fraction = 0.2,\n",
    "                         min_data_in_leaf=111,learning_rate=0.01,n_estimators=i)\n",
    "    lgbm.fit(X_train, Y_train)\n",
    "    Y_pred = lgbm.predict(X_valid).clip(0, 20)\n",
    "    Y_test = lgbm.predict(X_train).clip(0, 20)\n",
    "    a,b = mean_squared_error(Y_train, Y_test),mean_squared_error(Y_valid, Y_pred)\n",
    "    train_sc5.append(mean_squared_error(Y_train, Y_test))\n",
    "    val_sc5.append(mean_squared_error(Y_valid, Y_pred))\n",
    "    print(str(i) + ' : ' + str(a))\n",
    "    print(str(i) + ' : ' + str(b))\n",
    "    print()"
   ]
  },
  {
   "cell_type": "code",
   "execution_count": 10,
   "metadata": {
    "scrolled": true
   },
   "outputs": [
    {
     "data": {
      "text/plain": [
       "<matplotlib.axes._subplots.AxesSubplot at 0x2935202c8c8>"
      ]
     },
     "execution_count": 10,
     "metadata": {},
     "output_type": "execute_result"
    },
    {
     "data": {
      "image/png": "[encoded data removed]",
      "text/plain": [
       "<Figure size 432x288 with 1 Axes>"
      ]
     },
     "metadata": {
      "needs_background": "light"
     },
     "output_type": "display_data"
    }
   ],
   "source": [
    "sns.lineplot(n,train_sc5)\n",
    "sns.lineplot(n,val_sc5)"
   ]
  },
  {
   "cell_type": "code",
   "execution_count": null,
   "metadata": {},
   "outputs": [],
   "source": []
  },
  {
   "cell_type": "code",
   "execution_count": null,
   "metadata": {},
   "outputs": [],
   "source": []
  },
  {
   "cell_type": "code",
   "execution_count": null,
   "metadata": {},
   "outputs": [],
   "source": []
  },
  {
   "cell_type": "code",
   "execution_count": null,
   "metadata": {},
   "outputs": [],
   "source": []
  },
  {
   "cell_type": "code",
   "execution_count": null,
   "metadata": {},
   "outputs": [],
   "source": []
  },
  {
   "cell_type": "code",
   "execution_count": null,
   "metadata": {},
   "outputs": [],
   "source": []
  },
  {
   "cell_type": "code",
   "execution_count": null,
   "metadata": {},
   "outputs": [],
   "source": [
    "y_preds = lgbm.predict(x_valid).clip(0,20)"
   ]
  },
  {
   "cell_type": "code",
   "execution_count": null,
   "metadata": {},
   "outputs": [],
   "source": [
    "mean_squared_error(y_valid, y_preds), r2_score(y_valid, y_preds)"
   ]
  },
  {
   "cell_type": "code",
   "execution_count": null,
   "metadata": {},
   "outputs": [],
   "source": [
    "mean_squared_error(y_valid, y_preds), r2_score(y_valid, y_preds)"
   ]
  },
  {
   "cell_type": "code",
   "execution_count": null,
   "metadata": {},
   "outputs": [],
   "source": []
  },
  {
   "cell_type": "code",
   "execution_count": null,
   "metadata": {},
   "outputs": [],
   "source": [
    "plt.figure(figsize=(22, 6))\n",
    "sns.scatterplot(sub_test.drop('item_cnt_month',axis=1).columns, lgbm.feature_importances_)"
   ]
  },
  {
   "cell_type": "code",
   "execution_count": null,
   "metadata": {},
   "outputs": [],
   "source": []
  },
  {
   "cell_type": "code",
   "execution_count": null,
   "metadata": {},
   "outputs": [],
   "source": []
  },
  {
   "cell_type": "code",
   "execution_count": null,
   "metadata": {},
   "outputs": [],
   "source": []
  },
  {
   "cell_type": "markdown",
   "metadata": {},
   "source": [
    "# xgb"
   ]
  },
  {
   "cell_type": "code",
   "execution_count": null,
   "metadata": {},
   "outputs": [],
   "source": [
    "from xgboost import XGBRegressor"
   ]
  },
  {
   "cell_type": "code",
   "execution_count": null,
   "metadata": {},
   "outputs": [],
   "source": []
  },
  {
   "cell_type": "code",
   "execution_count": null,
   "metadata": {},
   "outputs": [],
   "source": [
    "score_train = []\n",
    "score_valid = []"
   ]
  },
  {
   "cell_type": "code",
   "execution_count": null,
   "metadata": {},
   "outputs": [],
   "source": [
    "%%time\n",
    "r = list(range(4,30,2))\n",
    "for i in r:\n",
    "    xgb = XGBRegressor(tree_method='gpu_hist',verbosity=2, max_depth=i)\n",
    "    xgb.fit(x_train1,y_train1)\n",
    "    y_tr = xgb.predict(x_train1).clip(0,20)\n",
    "    y_preds = xgb.predict(x_valid).clip(0,20)\n",
    "    s = mean_squared_error(y_train1, y_tr)\n",
    "    v = mean_squared_error(y_valid, y_preds)\n",
    "    print()\n",
    "    print('max_depth ' + str(i) + ' : ' + str(s))\n",
    "    print('max_depth ' + str(i) + ' : ' + str(v))\n",
    "    score_train.append(s)\n",
    "    score_valid.append(v)"
   ]
  },
  {
   "cell_type": "code",
   "execution_count": null,
   "metadata": {},
   "outputs": [],
   "source": []
  },
  {
   "cell_type": "code",
   "execution_count": null,
   "metadata": {},
   "outputs": [],
   "source": []
  },
  {
   "cell_type": "code",
   "execution_count": null,
   "metadata": {},
   "outputs": [],
   "source": [
    "%%time\n",
    "xgb = XGBRegressor()\n",
    "xgb.fit(X_train, Y_train,verbose=True,eval_metric=\"rmse\")"
   ]
  },
  {
   "cell_type": "code",
   "execution_count": null,
   "metadata": {},
   "outputs": [],
   "source": [
    "Y_pred = xgb.predict(X_valid).clip(0, 20)\n",
    "Y_test = xgb.predict(X_test).clip(0, 20)"
   ]
  },
  {
   "cell_type": "code",
   "execution_count": null,
   "metadata": {},
   "outputs": [],
   "source": [
    "mean_squared_error(Y_valid, Y_pred), r2_score(Y_valid, Y_pred)"
   ]
  },
  {
   "cell_type": "code",
   "execution_count": null,
   "metadata": {},
   "outputs": [],
   "source": []
  },
  {
   "cell_type": "code",
   "execution_count": null,
   "metadata": {},
   "outputs": [],
   "source": [
    "%%time\n",
    "model = XGBRegressor(\n",
    "    max_depth=8,\n",
    "    n_estimators=1000,\n",
    "    min_child_weight=300, \n",
    "    colsample_bytree=0.8, \n",
    "    subsample=0.8, \n",
    "    eta=0.3,    \n",
    "    seed=42)\n",
    "\n",
    "model.fit(\n",
    "    X_train, \n",
    "    Y_train, \n",
    "    eval_metric=\"rmse\", \n",
    "    eval_set=[(X_train, Y_train), (X_valid, Y_valid)], \n",
    "    verbose=True, \n",
    "    early_stopping_rounds = 10)"
   ]
  },
  {
   "cell_type": "code",
   "execution_count": null,
   "metadata": {},
   "outputs": [],
   "source": [
    "Y_pred = model.predict(X_valid).clip(0, 20)\n",
    "Y_test = model.predict(X_test).clip(0, 20)\n",
    "mean_squared_error(Y_valid, Y_pred), r2_score(Y_valid, Y_pred)"
   ]
  },
  {
   "cell_type": "code",
   "execution_count": null,
   "metadata": {},
   "outputs": [],
   "source": []
  },
  {
   "cell_type": "code",
   "execution_count": null,
   "metadata": {},
   "outputs": [],
   "source": []
  },
  {
   "cell_type": "code",
   "execution_count": null,
   "metadata": {},
   "outputs": [],
   "source": []
  },
  {
   "cell_type": "code",
   "execution_count": null,
   "metadata": {},
   "outputs": [],
   "source": []
  },
  {
   "cell_type": "code",
   "execution_count": null,
   "metadata": {},
   "outputs": [],
   "source": [
    "y_preds =xgb.predict(sub_test.drop('item_cnt_month',axis=1)).clip(0,20)"
   ]
  },
  {
   "cell_type": "code",
   "execution_count": null,
   "metadata": {},
   "outputs": [],
   "source": [
    "print('Train score : ' + str(mean_squared_error(y_train1, y_tr)) + '  ' + str(r2_score(y_train1, y_tr)))\n",
    "print('Valid score : ' + str(mean_squared_error(y_valid, y_preds)) + '  ' + str(r2_score(y_valid, y_preds)))"
   ]
  },
  {
   "cell_type": "code",
   "execution_count": null,
   "metadata": {},
   "outputs": [],
   "source": [
    "print('Train score : ' + str(mean_squared_error(y_train1, y_train)) + '  ' + str(r2_score(y_train1, y_train)))\n",
    "print('Train score : ' + str(mean_squared_error(y_valid, y_preds)) + '  ' + str(r2_score(y_valid, y_preds)))"
   ]
  },
  {
   "cell_type": "code",
   "execution_count": null,
   "metadata": {},
   "outputs": [],
   "source": []
  },
  {
   "cell_type": "code",
   "execution_count": null,
   "metadata": {},
   "outputs": [],
   "source": []
  },
  {
   "cell_type": "code",
   "execution_count": null,
   "metadata": {},
   "outputs": [],
   "source": []
  },
  {
   "cell_type": "code",
   "execution_count": null,
   "metadata": {},
   "outputs": [],
   "source": []
  },
  {
   "cell_type": "code",
   "execution_count": null,
   "metadata": {},
   "outputs": [],
   "source": [
    "plt.figure(figsize=(20, 6))\n",
    "sns.scatterplot(x_valid.columns, xgb.feature_importances_)"
   ]
  },
  {
   "cell_type": "code",
   "execution_count": null,
   "metadata": {},
   "outputs": [],
   "source": []
  },
  {
   "cell_type": "code",
   "execution_count": 25,
   "metadata": {},
   "outputs": [],
   "source": [
    "sample = pd.read_csv('C:/Users/Dindar/competitive-data-science-predict-future-sales(1)/sample_submission.csv')"
   ]
  },
  {
   "cell_type": "code",
   "execution_count": 26,
   "metadata": {},
   "outputs": [],
   "source": [
    "sample['item_cnt_month'] = y_preds"
   ]
  },
  {
   "cell_type": "code",
   "execution_count": 30,
   "metadata": {},
   "outputs": [],
   "source": [
    "sample['item_cnt_month'] = sample['item_cnt_month'].clip(0,20)"
   ]
  },
  {
   "cell_type": "code",
   "execution_count": 32,
   "metadata": {},
   "outputs": [
    {
     "data": {
      "text/plain": [
       "20.0"
      ]
     },
     "execution_count": 32,
     "metadata": {},
     "output_type": "execute_result"
    }
   ],
   "source": [
    "sample['item_cnt_month'].max()"
   ]
  },
  {
   "cell_type": "code",
   "execution_count": 27,
   "metadata": {},
   "outputs": [],
   "source": [
    "sample.to_csv('C:/Users/Dindar/competitive-data-science-predict-future-sales(1)/sample_submission.csv', index = False)"
   ]
  },
  {
   "cell_type": "code",
   "execution_count": null,
   "metadata": {},
   "outputs": [],
   "source": [
    "data"
   ]
  },
  {
   "cell_type": "code",
   "execution_count": null,
   "metadata": {},
   "outputs": [],
   "source": []
  },
  {
   "cell_type": "code",
   "execution_count": null,
   "metadata": {},
   "outputs": [],
   "source": []
  },
  {
   "cell_type": "code",
   "execution_count": null,
   "metadata": {},
   "outputs": [],
   "source": [
    "import numpy as np\n",
    "from sklearn.neighbors import NearestNeighbors\n",
    "samples = [[0, 0, 2], [1, 0, 0], [0, 0, 1]]"
   ]
  },
  {
   "cell_type": "code",
   "execution_count": null,
   "metadata": {},
   "outputs": [],
   "source": [
    "samples"
   ]
  },
  {
   "cell_type": "code",
   "execution_count": null,
   "metadata": {},
   "outputs": [],
   "source": [
    "neigh = NearestNeighbors(n_neighbors=2, radius=0.4)\n",
    "neigh.fit(samples)"
   ]
  },
  {
   "cell_type": "code",
   "execution_count": null,
   "metadata": {},
   "outputs": [],
   "source": [
    "neigh.kneighbors([[1., 1., 1.]])"
   ]
  },
  {
   "cell_type": "code",
   "execution_count": null,
   "metadata": {},
   "outputs": [],
   "source": []
  },
  {
   "cell_type": "code",
   "execution_count": null,
   "metadata": {},
   "outputs": [],
   "source": []
  },
  {
   "cell_type": "code",
   "execution_count": null,
   "metadata": {},
   "outputs": [],
   "source": []
  },
  {
   "cell_type": "code",
   "execution_count": null,
   "metadata": {},
   "outputs": [],
   "source": []
  },
  {
   "cell_type": "code",
   "execution_count": null,
   "metadata": {},
   "outputs": [],
   "source": []
  },
  {
   "cell_type": "code",
   "execution_count": null,
   "metadata": {},
   "outputs": [],
   "source": []
  }
 ],
 "metadata": {
  "kernelspec": {
   "display_name": "Python 3",
   "language": "python",
   "name": "python3"
  },
  "language_info": {
   "codemirror_mode": {
    "name": "ipython",
    "version": 3
   },
   "file_extension": ".py",
   "mimetype": "text/x-python",
   "name": "python",
   "nbconvert_exporter": "python",
   "pygments_lexer": "ipython3",
   "version": "3.7.7"
  }
 },
 "nbformat": 4,
 "nbformat_minor": 2
}
